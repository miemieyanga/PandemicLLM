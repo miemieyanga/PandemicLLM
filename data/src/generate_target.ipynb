{
 "cells": [
  {
   "cell_type": "code",
   "execution_count": 96,
   "id": "2364d98f",
   "metadata": {},
   "outputs": [],
   "source": [
    "import pandas as pd\n",
    "import numpy as np\n",
    "import os \n"
   ]
  },
  {
   "cell_type": "code",
   "execution_count": 97,
   "id": "8b2ba36a",
   "metadata": {},
   "outputs": [],
   "source": [
    "cwd = os.getcwd()"
   ]
  },
  {
   "cell_type": "code",
   "execution_count": 100,
   "id": "b0b9ebc6",
   "metadata": {},
   "outputs": [],
   "source": [
    "static = pd.read_pickle(cwd + '/raw_data/static_variable_state.pkl')\n",
    "pop = static[['fips', 'Population']]"
   ]
  },
  {
   "cell_type": "code",
   "execution_count": 101,
   "id": "a931196f",
   "metadata": {},
   "outputs": [
    {
     "name": "stderr",
     "output_type": "stream",
     "text": [
      "/var/folders/fg/qtvw7sp54r91rm2skfzzb8ww0000gn/T/ipykernel_29365/3509825895.py:3: FutureWarning: The default value of numeric_only in DataFrameGroupBy.sum is deprecated. In a future version, numeric_only will default to False. Either specify numeric_only or select only columns which should be valid for the function.\n",
      "  hosp_week = hosp.groupby(['state_name', 'Variable', 'fips', 'Week', 'Description']).sum().reset_index()\n"
     ]
    }
   ],
   "source": [
    "hosp = pd.read_pickle(cwd + '/processed_data/hospitalization_daily_state.pkl')\n",
    "hosp['Week'] = hosp['Date'].dt.to_period('W')\n",
    "hosp_week = hosp.groupby(['state_name', 'Variable', 'fips', 'Week', 'Description']).sum().reset_index()\n",
    "hosp_week = hosp_week.merge(pop)\n",
    "hosp_week['hospitalization_per_100k'] = (hosp_week['value']/hosp_week['Population'])*100000\n",
    "hosp_week = hosp_week.drop(columns = {'Variable', 'Description'})\n",
    "hosp_week['Week_start'] = hosp_week['Week'].apply(lambda r: r.start_time).dt.to_period('D').dt.strftime('%Y-%m-%d')\n",
    "hosp_week['Week_end'] = hosp_week['Week'].apply(lambda r: r.end_time).dt.to_period('D').dt.strftime('%Y-%m-%d')\n",
    "hosp_week = hosp_week.rename(columns = {'value' : 'hospitalization'})"
   ]
  },
  {
   "cell_type": "markdown",
   "id": "0e1e71f8",
   "metadata": {},
   "source": [
    "### Week1"
   ]
  },
  {
   "cell_type": "code",
   "execution_count": 102,
   "id": "2a8230a3",
   "metadata": {},
   "outputs": [],
   "source": [
    "### Smooth hosp\n",
    "for fips in hosp_week['fips'].unique():\n",
    "    index = hosp_week[hosp_week['fips'] == fips].index\n",
    "    hosp_week.loc[index, 'hospitalization_per_100k_sm'] = \\\n",
    "    hosp_week[hosp_week['fips'] == fips]['hospitalization_per_100k'].rolling(window = 3).mean()"
   ]
  },
  {
   "cell_type": "code",
   "execution_count": 103,
   "id": "f129911d",
   "metadata": {},
   "outputs": [],
   "source": [
    "for fips in hosp_week['fips'].unique():\n",
    "    index = hosp_week[hosp_week['fips'] == fips].index\n",
    "    hosp_week.loc[index, 'hospitalization_per_100k_sm_lag1'] = \\\n",
    "    hosp_week[hosp_week['fips'] == fips]['hospitalization_per_100k_sm'].shift(1)"
   ]
  },
  {
   "cell_type": "code",
   "execution_count": 104,
   "id": "858434e6",
   "metadata": {},
   "outputs": [],
   "source": [
    "hosp_week = hosp_week.dropna().reset_index().drop(columns = ['index'])"
   ]
  },
  {
   "cell_type": "code",
   "execution_count": 105,
   "id": "35582b36",
   "metadata": {},
   "outputs": [],
   "source": [
    "hosp_week['Abs_Change_w1'] = hosp_week['hospitalization_per_100k'] - hosp_week['hospitalization_per_100k_sm_lag1']"
   ]
  },
  {
   "cell_type": "code",
   "execution_count": 106,
   "id": "dfdcdf09",
   "metadata": {},
   "outputs": [],
   "source": [
    "hosp_week['Abs_Change_w1'] = round(hosp_week['Abs_Change_w1'], 2)"
   ]
  },
  {
   "cell_type": "code",
   "execution_count": 107,
   "id": "a7c39be2",
   "metadata": {},
   "outputs": [],
   "source": [
    "'''\n",
    "Define threshold\n",
    "'''\n",
    "# hosp_week['Change'] = (hosp_week['hospitalization_per_100k'] - hosp_week['hospitalization_per_100k_lag1'])\\\n",
    "# /hosp_week['hospitalization_per_100k_lag1']\n",
    "\n",
    "\n",
    "index_stable = hosp_week[(hosp_week['Abs_Change_w1'] < 1)&(hosp_week['Abs_Change_w1'] >= -1)].index\n",
    "hosp_week.loc[index_stable, 'Abs_Trend'] = 'Stable'\n",
    "index_stable = hosp_week[(hosp_week['Abs_Change_w1'] >= 1)&(hosp_week['Abs_Change_w1'] < 3)].index\n",
    "hosp_week.loc[index_stable, 'Abs_Trend'] = 'Moderate Increasing'\n",
    "index_stable = hosp_week[(hosp_week['Abs_Change_w1'] >= 3)].index\n",
    "hosp_week.loc[index_stable, 'Abs_Trend'] = 'Substantial Increasing'\n",
    "index_stable = hosp_week[(hosp_week['Abs_Change_w1'] > -3)&(hosp_week['Abs_Change_w1'] <= -1)].index\n",
    "hosp_week.loc[index_stable, 'Abs_Trend'] = 'Moderate Decreasing'\n",
    "index_stable = hosp_week[(hosp_week['Abs_Change_w1'] <= -3)].index\n",
    "hosp_week.loc[index_stable, 'Abs_Trend'] = 'Substantial Decreasing'\n"
   ]
  },
  {
   "cell_type": "code",
   "execution_count": 108,
   "id": "fb804ffc",
   "metadata": {},
   "outputs": [],
   "source": [
    "for index, row in hosp_week[hosp_week['Week_end'] >= '2021-01-01'].iterrows():\n",
    "    prompt = \"The most recent hospitalization trends are: \" + hosp_week.loc[index-4, 'Abs_Trend'].upper() +\\\n",
    "    ', ' + hosp_week.loc[index-3, 'Abs_Trend'].upper() +\\\n",
    "    ', ' + hosp_week.loc[index-2, 'Abs_Trend'].upper() +\\\n",
    "    ', ' + hosp_week.loc[index-1, 'Abs_Trend'].upper() + ', and ' + hosp_week.loc[index, 'Abs_Trend'].upper()\n",
    "    hosp_week.loc[index, 'Trend_prompt'] = prompt"
   ]
  },
  {
   "cell_type": "code",
   "execution_count": 109,
   "id": "943e0276",
   "metadata": {},
   "outputs": [],
   "source": [
    "for fips in hosp_week['fips'].unique():\n",
    "    index = hosp_week[hosp_week['fips'] == fips].index\n",
    "    hosp_week.loc[index, 'Abs_Trend_1w'] = hosp_week.loc[index, 'Abs_Trend'].shift(-1)\n"
   ]
  },
  {
   "cell_type": "code",
   "execution_count": 110,
   "id": "5b835f15",
   "metadata": {},
   "outputs": [],
   "source": [
    "hosp_week = hosp_week.rename(columns = {'Abs_Change_w1' : 'Abs_Change'})\n",
    "hosp_week = hosp_week.rename(columns = {'Abs_Trend_1w' : 'Abs_Trend_target_1w'})"
   ]
  },
  {
   "cell_type": "code",
   "execution_count": 111,
   "id": "b8bae064",
   "metadata": {
    "scrolled": true
   },
   "outputs": [
    {
     "data": {
      "text/plain": [
       "Index(['state_name', 'fips', 'Week', 'hospitalization', 'Population',\n",
       "       'hospitalization_per_100k', 'Week_start', 'Week_end',\n",
       "       'hospitalization_per_100k_sm', 'hospitalization_per_100k_sm_lag1',\n",
       "       'Abs_Change', 'Abs_Trend', 'Trend_prompt', 'Abs_Trend_target_1w'],\n",
       "      dtype='object')"
      ]
     },
     "execution_count": 111,
     "metadata": {},
     "output_type": "execute_result"
    }
   ],
   "source": [
    "hosp_week.columns"
   ]
  },
  {
   "cell_type": "code",
   "execution_count": 112,
   "id": "bf5dfbdf",
   "metadata": {},
   "outputs": [
    {
     "data": {
      "text/plain": [
       "Index(['state_name', 'fips', 'Week', 'Week_start', 'Week_end',\n",
       "       'hospitalization_per_100k', 'hospitalization_per_100k_sm',\n",
       "       'reported_cases_per_100k', 'Dose1_Pop_Pct', 'Series_Complete_Pop_Pct',\n",
       "       'Additional_Doses_Vax_Pct', 'Abs_Change', 'Abs_Trend',\n",
       "       'reported_cases_per_100k_gpt_trend',\n",
       "       'hospitalization_per_100k_gpt_trend', 'Trend_prompt', 'dynamic_prompt',\n",
       "       'dynamic_prompt_v2', 'dynamic_prompt_v3', 'week_id', 'uid',\n",
       "       'Population', 'under_20', 'over_65', 'White', 'Black', 'Multiple_race',\n",
       "       'Not_Hispanic', 'Hispanic', 'medicaid_coverage', 'medicare_coverage',\n",
       "       'uninsured_percent', 'medicaid_spending',\n",
       "       'private_health_insurance_spending', 'medicare_spending_by_residence',\n",
       "       'health_care_spending', 'healthcare_utilization', 'poor_health_status',\n",
       "       'adults_at_high_risk', 'poverty_rate', 'social_vulnerability_index',\n",
       "       'Healthcare Access and Quality Index', 'Older_at_high_risk',\n",
       "       'dem_percent', 'rep_percent', 'other_percent', 'State',\n",
       "       'Static_description', 'Static_description_v2', 'Static_description_v3',\n",
       "       'Static_description_v4', 'Static_description_v5', 't1', 't3'],\n",
       "      dtype='object')"
      ]
     },
     "execution_count": 112,
     "metadata": {},
     "output_type": "execute_result"
    }
   ],
   "source": [
    "ref.columns"
   ]
  },
  {
   "cell_type": "markdown",
   "id": "c1bb63b5",
   "metadata": {},
   "source": [
    "### Cases"
   ]
  },
  {
   "cell_type": "code",
   "execution_count": 113,
   "id": "4295d9a5",
   "metadata": {},
   "outputs": [],
   "source": [
    "cases = pd.read_pickle(cwd + '/processed_data/confimed_cases_daily_state.pkl')"
   ]
  },
  {
   "cell_type": "code",
   "execution_count": 114,
   "id": "c588bfa2",
   "metadata": {},
   "outputs": [
    {
     "name": "stderr",
     "output_type": "stream",
     "text": [
      "/var/folders/fg/qtvw7sp54r91rm2skfzzb8ww0000gn/T/ipykernel_29365/1334263650.py:2: FutureWarning: The default value of numeric_only in DataFrameGroupBy.sum is deprecated. In a future version, numeric_only will default to False. Either specify numeric_only or select only columns which should be valid for the function.\n",
      "  cases_week = cases.groupby(['Week', 'state_name', 'fips','Description']).sum().reset_index()\n"
     ]
    }
   ],
   "source": [
    "cases['Week'] = cases['Date'].dt.to_period('W')\n",
    "cases_week = cases.groupby(['Week', 'state_name', 'fips','Description']).sum().reset_index()\n",
    "cases_week['Week_start'] = cases_week['Week'].apply(lambda r: r.start_time).dt.to_period('D').dt.strftime('%Y-%m-%d')\n",
    "cases_week['Week_end'] = cases_week['Week'].apply(lambda r: r.end_time).dt.to_period('D').dt.strftime('%Y-%m-%d')\n",
    "cases_week = cases_week.rename(columns = {'value' : 'Reported_cases'}).drop(columns = ['Description'])\n"
   ]
  },
  {
   "cell_type": "code",
   "execution_count": 115,
   "id": "07d539d1",
   "metadata": {},
   "outputs": [],
   "source": [
    "for fips in cases_week['fips'].unique():\n",
    "    index = cases_week[cases_week['fips'] == fips].index\n",
    "    cases_week.loc[index, 'previous_infection_12w'] = \\\n",
    "    cases_week[cases_week['fips'] == fips]['Reported_cases'].rolling(window = 12, min_periods = 1).sum()"
   ]
  },
  {
   "cell_type": "code",
   "execution_count": 116,
   "id": "0acd2fe1",
   "metadata": {},
   "outputs": [],
   "source": [
    "df = hosp_week.merge(cases_week)"
   ]
  },
  {
   "cell_type": "code",
   "execution_count": 117,
   "id": "24be77e7",
   "metadata": {},
   "outputs": [],
   "source": [
    "df = df.rename(columns = {'Population' : 'population', 'Reported_cases' : 'reported_cases'})\n",
    "df['reported_cases_per_100k'] = (df['reported_cases']/df['population'])*100000\n",
    "df['reported_cases_per_100k'] = round(df['reported_cases_per_100k'],1)\n",
    "df['previous_infection_12w'] = round((df['previous_infection_12w']/df['population'])*100, 1)"
   ]
  },
  {
   "cell_type": "markdown",
   "id": "7a4951aa",
   "metadata": {},
   "source": [
    "### Vaccine "
   ]
  },
  {
   "cell_type": "code",
   "execution_count": 118,
   "id": "2ba9846d",
   "metadata": {},
   "outputs": [],
   "source": [
    "vacc = pd.read_pickle(cwd + '/processed_data/vaccination_weekly_state.pkl')\n",
    "vacc['dow'] = vacc['Date'].dt.day_name()"
   ]
  },
  {
   "cell_type": "code",
   "execution_count": 119,
   "id": "4b83554d",
   "metadata": {},
   "outputs": [
    {
     "name": "stderr",
     "output_type": "stream",
     "text": [
      "/var/folders/fg/qtvw7sp54r91rm2skfzzb8ww0000gn/T/ipykernel_29365/314402433.py:2: FutureWarning: The default value of numeric_only in DataFrameGroupBy.mean is deprecated. In a future version, numeric_only will default to False. Either specify numeric_only or select only columns which should be valid for the function.\n",
      "  vacc_week = vacc.groupby(['Week', 'state_name', 'fips', 'Variable', 'Description']).mean().reset_index()\n"
     ]
    }
   ],
   "source": [
    "vacc['Week'] = vacc['Date'].dt.to_period('W')\n",
    "vacc_week = vacc.groupby(['Week', 'state_name', 'fips', 'Variable', 'Description']).mean().reset_index()\n",
    "vacc_week['Week_start'] = vacc_week['Week'].apply(lambda r: r.start_time).dt.to_period('D').dt.strftime('%Y-%m-%d')\n",
    "vacc_week['Week_end'] = vacc_week['Week'].apply(lambda r: r.end_time).dt.to_period('D').dt.strftime('%Y-%m-%d')\n"
   ]
  },
  {
   "cell_type": "code",
   "execution_count": 120,
   "id": "6c564439",
   "metadata": {},
   "outputs": [],
   "source": [
    "vacc_week = vacc_week.drop(columns = ['Description'])"
   ]
  },
  {
   "cell_type": "code",
   "execution_count": 121,
   "id": "6d99fb22",
   "metadata": {},
   "outputs": [],
   "source": [
    "df = df.merge(vacc_week[vacc_week['Variable'] == 'Administered_Dose1_Pop_Pct'])\n",
    "df = df.rename(columns = {'value': 'Dose1_Pop_Pct'}).drop(columns = ['Variable'])\n",
    "df = df.merge(vacc_week[vacc_week['Variable'] == 'Series_Complete_Pop_Pct'])\n",
    "df = df.rename(columns = {'value': 'Series_Complete_Pop_Pct'}).drop(columns = ['Variable'])\n",
    "df = df.merge(vacc_week[vacc_week['Variable'] == 'Additional_Doses_Vax_Pct'])\n",
    "df = df.rename(columns = {'value': 'Additional_Doses_Vax_Pct'}).drop(columns = ['Variable'])"
   ]
  },
  {
   "cell_type": "markdown",
   "id": "8d4e8a21",
   "metadata": {},
   "source": [
    "### Policy"
   ]
  },
  {
   "cell_type": "code",
   "execution_count": 122,
   "id": "0d68d673",
   "metadata": {},
   "outputs": [],
   "source": [
    "policy = pd.read_pickle(cwd +'/processed_data/selected_state_policy_daily.pkl')"
   ]
  },
  {
   "cell_type": "code",
   "execution_count": 123,
   "id": "b90075a4",
   "metadata": {},
   "outputs": [],
   "source": [
    "policy['Week'] = policy['Date'].dt.to_period('W')\n",
    "policy['Week_start'] = policy['Week'].apply(lambda r: r.start_time).dt.to_period('D').dt.strftime('%Y-%m-%d')\n",
    "policy['Week_end'] = policy['Week'].apply(lambda r: r.end_time).dt.to_period('D').dt.strftime('%Y-%m-%d')"
   ]
  },
  {
   "cell_type": "code",
   "execution_count": 124,
   "id": "6de55481",
   "metadata": {},
   "outputs": [],
   "source": [
    "policy = policy[pd.to_datetime(policy['Date']) == policy['Week_end']].reset_index().drop(columns = ['index'])"
   ]
  },
  {
   "cell_type": "code",
   "execution_count": 125,
   "id": "4218a8dc",
   "metadata": {},
   "outputs": [],
   "source": [
    "df = df.merge(policy)\n",
    "df = df.drop(columns = ['population'])\n",
    "df = df.drop(columns = ['state_abbr', 'Date'])"
   ]
  },
  {
   "cell_type": "markdown",
   "id": "e0d76d38",
   "metadata": {},
   "source": [
    "### Week 3 target"
   ]
  },
  {
   "cell_type": "code",
   "execution_count": 128,
   "id": "cff2c236",
   "metadata": {},
   "outputs": [],
   "source": [
    "hosp = pd.read_pickle('/Users/hongrudu/Documents/Projects/COVIDLLM/data/processed_data/hospitalization_daily_state.pkl')\n",
    "hosp['Week'] = hosp['Date'].dt.to_period('W')\n",
    "hosp_week = hosp.drop(columns = ['Date', 'State', 'Temporal_resolution']).groupby(['state_name', 'Variable', 'fips', 'Week', 'Description']).sum().reset_index()\n",
    "hosp_week = hosp_week.merge(pop)\n",
    "hosp_week['hospitalization_per_100k'] = (hosp_week['value']/hosp_week['Population'])*100000\n",
    "hosp_week = hosp_week.drop(columns = {'Variable', 'Description'})\n",
    "hosp_week['Week_start'] = hosp_week['Week'].apply(lambda r: r.start_time).dt.to_period('D').dt.strftime('%Y-%m-%d')\n",
    "hosp_week['Week_end'] = hosp_week['Week'].apply(lambda r: r.end_time).dt.to_period('D').dt.strftime('%Y-%m-%d')\n",
    "hosp_week = hosp_week.rename(columns = {'value' : 'hospitalization'})"
   ]
  },
  {
   "cell_type": "code",
   "execution_count": 129,
   "id": "352e4f03",
   "metadata": {},
   "outputs": [],
   "source": [
    "### Smooth hosp\n",
    "for fips in hosp_week['fips'].unique():\n",
    "    index = hosp_week[hosp_week['fips'] == fips].index\n",
    "    hosp_week.loc[index, 'hospitalization_per_100k_sm'] = \\\n",
    "    hosp_week[hosp_week['fips'] == fips]['hospitalization_per_100k'].rolling(window = 3).mean()\n",
    "\n",
    "for fips in hosp_week['fips'].unique():\n",
    "    index = hosp_week[hosp_week['fips'] == fips].index\n",
    "    hosp_week.loc[index, 'hospitalization_per_100k_sm_lag3'] = \\\n",
    "    hosp_week[hosp_week['fips'] == fips]['hospitalization_per_100k_sm'].shift(3)\n",
    "\n",
    "hosp_week = hosp_week.dropna().reset_index().drop(columns = ['index'])\n",
    "hosp_week['Abs_Change_w3'] = hosp_week['hospitalization_per_100k'] - hosp_week['hospitalization_per_100k_sm_lag3']\n",
    "hosp_week['Abs_Change_w3'] = round(hosp_week['Abs_Change_w3'], 2)\n"
   ]
  },
  {
   "cell_type": "code",
   "execution_count": 130,
   "id": "527a4558",
   "metadata": {},
   "outputs": [],
   "source": [
    "'''\n",
    "Define threshold\n",
    "'''\n",
    "# hosp_week['Change'] = (hosp_week['hospitalization_per_100k'] - hosp_week['hospitalization_per_100k_lag1'])\\\n",
    "# /hosp_week['hospitalization_per_100k_lag1']\n",
    "\n",
    "\n",
    "index_stable = hosp_week[(hosp_week['Abs_Change_w3'] < 1.5)&(hosp_week['Abs_Change_w3'] >= -1.5)].index\n",
    "hosp_week.loc[index_stable, 'Abs_Trend'] = 'Stable'\n",
    "index_stable = hosp_week[(hosp_week['Abs_Change_w3'] >= 1.5)&(hosp_week['Abs_Change_w3'] < 4.5)].index\n",
    "hosp_week.loc[index_stable, 'Abs_Trend'] = 'Moderate Increasing'\n",
    "index_stable = hosp_week[(hosp_week['Abs_Change_w3'] >= 4.5)].index\n",
    "hosp_week.loc[index_stable, 'Abs_Trend'] = 'Substantial Increasing'\n",
    "index_stable = hosp_week[(hosp_week['Abs_Change_w3'] > -4.5)&(hosp_week['Abs_Change_w3'] <= -1.5)].index\n",
    "hosp_week.loc[index_stable, 'Abs_Trend'] = 'Moderate Decreasing'\n",
    "index_stable = hosp_week[(hosp_week['Abs_Change_w3'] <= -4.5)].index\n",
    "hosp_week.loc[index_stable, 'Abs_Trend'] = 'Substantial Decreasing'\n"
   ]
  },
  {
   "cell_type": "code",
   "execution_count": 131,
   "id": "4ec76099",
   "metadata": {},
   "outputs": [],
   "source": [
    "for index, row in hosp_week[hosp_week['Week_end'] >= '2021-01-01'].iterrows():\n",
    "    prompt = \"The most recent hospitalization trends are: \" + hosp_week.loc[index-4, 'Abs_Trend'].upper() +\\\n",
    "    ', ' + hosp_week.loc[index-3, 'Abs_Trend'].upper() +\\\n",
    "    ', ' + hosp_week.loc[index-2, 'Abs_Trend'].upper() +\\\n",
    "    ', ' + hosp_week.loc[index-1, 'Abs_Trend'].upper() + ', and ' + hosp_week.loc[index, 'Abs_Trend'].upper()\n",
    "    hosp_week.loc[index, 'Trend_prompt'] = prompt"
   ]
  },
  {
   "cell_type": "code",
   "execution_count": 132,
   "id": "a30b91fb",
   "metadata": {},
   "outputs": [],
   "source": [
    "for fips in hosp_week['fips'].unique():\n",
    "    index = hosp_week[hosp_week['fips'] == fips].index\n",
    "    hosp_week.loc[index, 'Abs_Trend_3w'] = hosp_week.loc[index, 'Abs_Trend'].shift(-3)\n"
   ]
  },
  {
   "cell_type": "code",
   "execution_count": 133,
   "id": "3eab65d1",
   "metadata": {},
   "outputs": [],
   "source": [
    "hosp_week = hosp_week.rename(columns = {'Abs_Trend_3w' : 'Abs_Trend_target_3w'})"
   ]
  },
  {
   "cell_type": "code",
   "execution_count": 134,
   "id": "ae346230",
   "metadata": {},
   "outputs": [],
   "source": [
    "df = df.merge(hosp_week[['state_name', 'fips', 'Week', 'Week_start', 'Week_end', 'Abs_Trend_target_3w']])"
   ]
  },
  {
   "cell_type": "code",
   "execution_count": 136,
   "id": "1115023d",
   "metadata": {},
   "outputs": [],
   "source": [
    "df.to_pickle(cwd + '/processed_data/all_data.pkl')"
   ]
  },
  {
   "cell_type": "code",
   "execution_count": null,
   "id": "57055c80",
   "metadata": {},
   "outputs": [],
   "source": []
  }
 ],
 "metadata": {
  "kernelspec": {
   "display_name": "Python 3 (ipykernel)",
   "language": "python",
   "name": "python3"
  },
  "language_info": {
   "codemirror_mode": {
    "name": "ipython",
    "version": 3
   },
   "file_extension": ".py",
   "mimetype": "text/x-python",
   "name": "python",
   "nbconvert_exporter": "python",
   "pygments_lexer": "ipython3",
   "version": "3.9.17"
  }
 },
 "nbformat": 4,
 "nbformat_minor": 5
}
