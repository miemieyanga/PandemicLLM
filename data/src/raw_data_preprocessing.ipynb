{
 "cells": [
  {
   "cell_type": "code",
   "execution_count": 1,
   "id": "1f524dd7",
   "metadata": {},
   "outputs": [],
   "source": [
    "import pandas as pd\n",
    "import numpy as np\n",
    "import os \n"
   ]
  },
  {
   "cell_type": "code",
   "execution_count": 2,
   "id": "59eee64c",
   "metadata": {},
   "outputs": [],
   "source": [
    "cwd = os.getcwd()"
   ]
  },
  {
   "cell_type": "code",
   "execution_count": 4,
   "id": "412d9472",
   "metadata": {
    "scrolled": true
   },
   "outputs": [],
   "source": [
    "ref = pd.read_csv(cwd + '/raw_data/state_fips_master.csv',\n",
    "                 dtype = {'fips' : np.str_})\n",
    "ref['fips'] = ref['fips'].str.zfill(2)\n",
    "ref_1 = ref[['state_name', 'fips']]\n",
    "ref = ref[['state_abbr','state_name', 'fips']]"
   ]
  },
  {
   "cell_type": "markdown",
   "id": "0ecc4558",
   "metadata": {},
   "source": [
    "### Hospitalization"
   ]
  },
  {
   "cell_type": "code",
   "execution_count": 5,
   "id": "4b5c01ba",
   "metadata": {},
   "outputs": [],
   "source": [
    "df = pd.read_pickle(cwd + '/raw_data/confirmed_admissions_covid_1d_state.pickle')\n",
    "df['geo_value'] = df['geo_value'].apply(str.upper)\n",
    "df_hosp = df[['geo_value', 'signal', 'time_value', 'value']]\n",
    "df_hosp = df_hosp.rename(columns = {'geo_value' : 'state_abbr'})\n",
    "df_hosp = df_hosp.merge(ref)\n",
    "df_hosp['Description'] = 'Sum of adult and pediatric confirmed COVID-19 hospital admissions occurring each day.'\n",
    "df_hosp = df_hosp.rename(columns = {'state_abbr' : 'State'})\n",
    "df_hosp = df_hosp.dropna().reset_index().drop(columns = ['index'])\n",
    "df_hosp = df_hosp.rename(columns = {'signal' : 'Variable'})\n",
    "df_hosp['Variable'] = df_hosp['Variable'].replace('confirmed_admissions_covid_1d', 'Confirmed COVID-19 Hospital Admissions')\n",
    "df_hosp['Temporal_resolution'] = 'Daily'\n",
    "df_hosp = df_hosp.rename(columns = {'time_value' : 'Date'})\n",
    "df_hosp['Date'] = pd.to_datetime(df_hosp['Date'])"
   ]
  },
  {
   "cell_type": "code",
   "execution_count": 6,
   "id": "a1b710e8",
   "metadata": {},
   "outputs": [],
   "source": [
    "df_hosp.to_pickle(cwd +'/processed_data/hospitalization_daily_state.pkl')"
   ]
  },
  {
   "cell_type": "markdown",
   "id": "766fcf53",
   "metadata": {},
   "source": [
    "### Vaccination"
   ]
  },
  {
   "cell_type": "code",
   "execution_count": 7,
   "id": "87605192",
   "metadata": {},
   "outputs": [],
   "source": [
    "vacc_raw = pd.read_csv(cwd + '/raw_data/COVID-19_Vaccinations_in_the_United_States_Jurisdiction.csv')\n",
    "vacc_raw = vacc_raw.rename(columns = {'Location' : 'state_abbr'})\n",
    "vacc_raw = vacc_raw.drop(columns = ['MMWR_week'])\n",
    "vacc_raw['Temporal_resolution'] = 'Weekly'\n",
    "vacc_raw = vacc_raw.merge(ref)\n",
    "vacc_raw['Date'] = pd.to_datetime(vacc_raw['Date'])\n",
    "vacc_raw = vacc_raw.set_index(['Date', 'state_abbr', 'Temporal_resolution', 'state_name',\n",
    "       'fips'])\n",
    "vacc_raw = vacc_raw.drop(columns = {'Distributed', 'Distributed_Janssen', 'Distributed_Moderna',\n",
    "       'Distributed_Pfizer', 'Distributed_Novavax',\n",
    "       'Distributed_Unk_Manuf', 'Dist_Per_100K',\n",
    "       'Distributed_Per_100k_5Plus', 'Distributed_Per_100k_12Plus',\n",
    "       'Distributed_Per_100k_18Plus', 'Distributed_Per_100k_65Plus'})\n",
    "vacc_select = vacc_raw[['Administered_Dose1_Pop_Pct',\n",
    "       'Administered_Dose1_Recip_65PlusPop_Pct', \n",
    "       'Series_Complete_Pop_Pct',\n",
    "       'Series_Complete_65PlusPop_Pct',\n",
    "       'Additional_Doses_Vax_Pct',\n",
    "       'Additional_Doses_65Plus_Vax_Pct']]\n",
    "vacc_pro = vacc_select.stack().reset_index()\n",
    "vacc_pro = vacc_pro.rename(columns = {'level_5' : 'Variable', 0 : 'value'})\n",
    "\n",
    "index = vacc_pro[vacc_pro['Variable'] == 'Administered_Dose1_Pop_Pct'].index\n",
    "vacc_pro.loc[index, 'Description'] = 'Percent of population with at least one dose based on the State where recipient lives'\n",
    "\n",
    "index = vacc_pro[vacc_pro['Variable'] == 'Administered_Dose1_Recip_65PlusPop_Pct'].index\n",
    "vacc_pro.loc[index, 'Description'] = 'Percent of population ages 65+ with at least one dose based on the State where recipient lives'\n",
    "\n",
    "index = vacc_pro[vacc_pro['Variable'] == 'Series_Complete_Pop_Pct'].index\n",
    "vacc_pro.loc[index, 'Description'] = 'Percent of people with a completed primary series (have second dose of a two-dose vaccine or one dose of a single-dose vaccine) based on the State where recipient lives'\n",
    "\n",
    "index = vacc_pro[vacc_pro['Variable'] == 'Series_Complete_65PlusPop_Pct'].index\n",
    "vacc_pro.loc[index, 'Description'] = 'Percent of people 65+ with a completed primary series (have second dose of a two-dose vaccine or one dose of a single-dose vaccine) based on the State where recipient lives'\n",
    "\n",
    "index = vacc_pro[vacc_pro['Variable'] == 'Additional_Doses_Vax_Pct'].index\n",
    "vacc_pro.loc[index, 'Description'] = 'Percent of people who completed a primary series and have received a booster (or additional) dose.'\n",
    "\n",
    "index = vacc_pro[vacc_pro['Variable'] == 'Additional_Doses_65Plus_Vax_Pct'].index\n",
    "vacc_pro.loc[index, 'Description'] = 'Percent of people 65+ who completed a primary series and have received a booster (or additional) dose.'\n"
   ]
  },
  {
   "cell_type": "code",
   "execution_count": 8,
   "id": "c25b39a7",
   "metadata": {},
   "outputs": [],
   "source": [
    "vacc_pro.to_pickle(cwd + '/processed_data/vaccination_weekly_state.pkl')"
   ]
  },
  {
   "cell_type": "markdown",
   "id": "d33e88ad",
   "metadata": {},
   "source": [
    "### Cases"
   ]
  },
  {
   "cell_type": "code",
   "execution_count": 9,
   "id": "00736d4c",
   "metadata": {},
   "outputs": [
    {
     "name": "stderr",
     "output_type": "stream",
     "text": [
      "/var/folders/fg/qtvw7sp54r91rm2skfzzb8ww0000gn/T/ipykernel_29946/2569609100.py:8: FutureWarning: The default value of numeric_only in DataFrameGroupBy.sum is deprecated. In a future version, numeric_only will default to False. Either specify numeric_only or select only columns which should be valid for the function.\n",
      "  cases = cases.rename(columns = {'fips' : 'FIPS'}).groupby(['FIPS']).sum().iloc[:, 14:]\n"
     ]
    }
   ],
   "source": [
    "#############################\n",
    "######Cases data\n",
    "#############################\n",
    "##Read in cases data from Github\n",
    "CSSE_url = 'https://raw.githubusercontent.com/CSSEGISandData/COVID-19/master/csse_covid_19_data/csse_covid_19_time_series/time_series_covid19_confirmed_US.csv'\n",
    "cases = pd.read_csv(CSSE_url, dtype = {'FIPS' : np.str_})\n",
    "cases = ref_1.merge(cases.drop(columns = ['FIPS']), how = 'left', left_on = ['state_name'], right_on = ['Province_State'])# cases['FIPS'] = cases['FIPS'].str.zfill(5)\n",
    "cases = cases.rename(columns = {'fips' : 'FIPS'}).groupby(['FIPS']).sum().iloc[:, 14:]\n",
    "\n",
    "daily_cases = cases.iloc[:, 13:] - cases.iloc[:, 13:].shift(axis = 1)\n",
    "\n",
    "daily_cases = daily_cases.dropna(axis = 1)\n",
    "# daily_cases = daily_cases.iloc[:, 7:] \n",
    "daily_cases.columns = pd.to_datetime(daily_cases.columns).strftime('%Y-%m-%d')\n",
    "daily_cases_state = daily_cases.groupby(daily_cases.index.str[:2]).sum()\n",
    "# daily_cases_state = daily_cases_state.iloc[:-2, :]\n",
    "daily_cases_state[daily_cases_state<0] = 0"
   ]
  },
  {
   "cell_type": "code",
   "execution_count": 10,
   "id": "254c7a9c",
   "metadata": {},
   "outputs": [],
   "source": [
    "daily_cases_state = daily_cases_state.stack().reset_index().rename(columns = {'level_1' : 'Date', 0 : 'value'})\n",
    "daily_cases_state['Date'] = pd.to_datetime(daily_cases_state['Date'])\n",
    "daily_cases_state = daily_cases_state.rename(columns = {'FIPS' : 'fips'})\n",
    "daily_cases_state = daily_cases_state.merge(ref)\n",
    "daily_cases_state['Description'] = 'Number of individuals with a positive molecular test. The tests are designed for viral genetic material, such as a PCR or polymerase chain reaction test'"
   ]
  },
  {
   "cell_type": "code",
   "execution_count": 11,
   "id": "a97874a0",
   "metadata": {},
   "outputs": [],
   "source": [
    "daily_cases_state.to_pickle(cwd + '/processed_data/confimed_cases_daily_state.pkl')"
   ]
  },
  {
   "cell_type": "markdown",
   "id": "18084875",
   "metadata": {},
   "source": [
    "### Policy"
   ]
  },
  {
   "cell_type": "code",
   "execution_count": 18,
   "id": "8e362038",
   "metadata": {},
   "outputs": [],
   "source": [
    "df = pd.read_pickle(cwd + '/raw_data/policy.pkl')"
   ]
  },
  {
   "cell_type": "code",
   "execution_count": 19,
   "id": "891221da",
   "metadata": {},
   "outputs": [],
   "source": [
    "df = df.drop(columns = ['Unnamed: 0'])\n",
    "df['Date'] = pd.to_datetime(df['Date'].astype(str))\n",
    "selected_policies = ['C1M_School closing', 'C2M_Workplace closing', 'C3E_Cancel public events',\n",
    "                    'C4M_Restrictions on gatherings', 'C6M_Stay at home requirements',\n",
    "                    'C7M_Restrictions on internal movement', 'C8NV_International travel controls',\n",
    "                    'C8V_International travel controls', 'H1_Public information campaigns',\n",
    "                    'H2_Testing policy', 'H3_Contact tracing', 'H6M_Facial Coverings',\n",
    "                    'H8M_Protection of elderly people']\n",
    "df_state = df[['RegionName', 'Date', 'C1M_School closing', 'C2M_Workplace closing', 'C3M_Cancel public events',\n",
    "                    'C4M_Restrictions on gatherings', 'C6M_Stay at home requirements',\n",
    "                    'C7M_Restrictions on internal movement', 'C8NV_International travel controls',\n",
    "                    'C8V_International travel controls', 'H1_Public information campaigns',\n",
    "                    'H2_Testing policy', 'H3_Contact tracing', 'H6M_Facial Coverings',\n",
    "                    'H8M_Protection of elderly people']]\n",
    "df_state = df_state.dropna(subset = ['RegionName']).reset_index().drop(columns = ['index'])\n",
    "df_state = df_state.replace('no data', 'no measures')\n",
    "df_state = df_state.rename(columns = {'RegionName' : 'state_name'})\n",
    "df_state = ref.merge(df_state)\n"
   ]
  },
  {
   "cell_type": "code",
   "execution_count": 20,
   "id": "720c8b9d",
   "metadata": {},
   "outputs": [],
   "source": [
    "df_state.to_pickle(cwd + '/processed_data/selected_state_policy_daily.pkl')"
   ]
  },
  {
   "cell_type": "code",
   "execution_count": null,
   "id": "d7453482",
   "metadata": {},
   "outputs": [],
   "source": []
  }
 ],
 "metadata": {
  "kernelspec": {
   "display_name": "Python 3 (ipykernel)",
   "language": "python",
   "name": "python3"
  },
  "language_info": {
   "codemirror_mode": {
    "name": "ipython",
    "version": 3
   },
   "file_extension": ".py",
   "mimetype": "text/x-python",
   "name": "python",
   "nbconvert_exporter": "python",
   "pygments_lexer": "ipython3",
   "version": "3.9.17"
  }
 },
 "nbformat": 4,
 "nbformat_minor": 5
}
