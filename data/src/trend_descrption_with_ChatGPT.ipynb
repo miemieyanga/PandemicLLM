{
 "cells": [
  {
   "cell_type": "code",
   "execution_count": 3,
   "id": "9e161e86",
   "metadata": {},
   "outputs": [],
   "source": [
    "import pandas as pd\n",
    "import numpy as np\n",
    "import matplotlib.pyplot as plt\n",
    "import openai\n",
    "import os"
   ]
  },
  {
   "cell_type": "code",
   "execution_count": 4,
   "id": "44887f4f",
   "metadata": {},
   "outputs": [],
   "source": [
    "cwd = os.getcwd()"
   ]
  },
  {
   "cell_type": "code",
   "execution_count": 5,
   "id": "7208d51f",
   "metadata": {},
   "outputs": [],
   "source": [
    "static = pd.read_pickle(cwd + '/processed_data/static_data.pkl')\n",
    "pop = static[['fips', 'Population']]"
   ]
  },
  {
   "cell_type": "code",
   "execution_count": 6,
   "id": "978481f7",
   "metadata": {},
   "outputs": [],
   "source": [
    "hosp = pd.read_pickle('/Users/hongrudu/Documents/Projects/COVIDLLM/data/processed_data/hospitalization_daily_state.pkl')\n",
    "hosp['Week'] = hosp['Date'].dt.to_period('W')\n",
    "hosp_week = hosp.drop(columns = ['Date', 'State', 'Temporal_resolution']).groupby(['state_name', 'Variable', 'fips', 'Week', 'Description']).sum().reset_index()\n",
    "hosp_week = hosp_week.merge(pop)\n",
    "hosp_week['hospitalization_per_100k'] = (hosp_week['value']/hosp_week['Population'])*100000\n",
    "hosp_week = hosp_week.drop(columns = {'Variable', 'Description'})\n",
    "hosp_week['Week_start'] = hosp_week['Week'].apply(lambda r: r.start_time).dt.to_period('D').dt.strftime('%Y-%m-%d')\n",
    "hosp_week['Week_end'] = hosp_week['Week'].apply(lambda r: r.end_time).dt.to_period('D').dt.strftime('%Y-%m-%d')\n",
    "hosp_week = hosp_week.rename(columns = {'value' : 'hospitalization'})"
   ]
  },
  {
   "cell_type": "code",
   "execution_count": 7,
   "id": "65ebb173",
   "metadata": {},
   "outputs": [],
   "source": [
    "api_key = \"Your Key\"\n",
    "openai.api_key = api_key"
   ]
  },
  {
   "cell_type": "code",
   "execution_count": 8,
   "id": "337c2a33",
   "metadata": {},
   "outputs": [],
   "source": [
    "hosp_week['hospitalization_per_100k'] = round(hosp_week['hospitalization_per_100k'], 1)"
   ]
  },
  {
   "cell_type": "code",
   "execution_count": 9,
   "id": "89851327",
   "metadata": {},
   "outputs": [],
   "source": [
    "for index, row in hosp_week[hosp_week['Week_end'] >= '2021-01-01'].iterrows():\n",
    "    prompt = str(hosp_week.loc[index-4, 'hospitalization_per_100k']) +\\\n",
    "    ', ' + str(hosp_week.loc[index-3, 'hospitalization_per_100k']) +\\\n",
    "    ', ' + str(hosp_week.loc[index-2, 'hospitalization_per_100k']) +\\\n",
    "    ', ' + str(hosp_week.loc[index-1, 'hospitalization_per_100k']) + ', and ' +\\\n",
    "    str(hosp_week.loc[index, 'hospitalization_per_100k'])\n",
    "    hosp_week.loc[index, 'hospitalization_per_100k_past_5'] = prompt\n",
    "hosp_week_selected = hosp_week[(hosp_week['Week_end'] >= '2021-01-01')\\\n",
    "         &(hosp_week['Week_end'] <= '2023-01-10')].reset_index().drop(columns = ['index'])"
   ]
  },
  {
   "cell_type": "code",
   "execution_count": 10,
   "id": "b5c945fb",
   "metadata": {},
   "outputs": [
    {
     "name": "stdout",
     "output_type": "stream",
     "text": [
      "Over the most recent five weeks, COVID-19 hospitalization rates per 100K have shown an increasing trend, with figures of 40.9, 47.7, 54.9, 58.1, and 61.2. The average hospitalization rate over this period is approximately 52.6 per 100K. There is an increasing volatility in the rates as the numbers fluctuate more with each passing week. The rate of change also indicates a consistent upward trend, with the hospitalization rate per 100K rising by an average of 4.1 units per week over the five-week period.\n",
      "Over the most recent five weeks, the COVID-19 hospitalization rate per 100K population has shown a clear increasing trend. The average hospitalization rate during this period is 56.7. The data points have exhibited moderate volatility, with a range of 13.9 from the lowest to the highest value. The rate of change in hospitalization has been steady, with an average increase of 2.56 per week.\n",
      "Over the most recent five weeks, the COVID-19 hospitalization rate per 100K has shown a general upward trend, with the numbers increasing from 54.9 to 58.1, 61.2, and peaking at 61.6 before slightly dropping to 55.1. The average hospitalization rate over this period is approximately 58.2, indicating a moderate level of hospitalizations. The data also suggest a certain level of volatility, particularly with the peak at 61.6 followed by a decrease to 55.1, showcasing fluctuations in the hospitalization rate. The rate of change in hospitalizations per 100K has been fluctuating, showing both increases and decreases within the five-week period.\n"
     ]
    }
   ],
   "source": [
    "for index, row in hosp_week_selected.iterrows():\n",
    "    prompt =  \"Describe all information in this time-series: \" + \\\n",
    "    hosp_week_selected['hospitalization_per_100k_past_5'][index]\n",
    "    \n",
    "    completion = openai.ChatCompletion.create(\n",
    "      model = \"gpt-3.5-turbo\",\n",
    "      temperature = 0.8,\n",
    "      max_tokens = 200,\n",
    "      seed=1,\n",
    "      messages = [\n",
    "        {\"role\": \"system\", \n",
    "         \"content\": \"You are a helpful assistant for summarizing the key Trends, Averages, Volatility, and Rate of Change in the most recent five weeks of COVID-19 hospitalization per 100K in a concise written format (one Paragraph).\"},\n",
    "        {\"role\": \"user\", \"content\" : prompt}\n",
    "      ]\n",
    "    )\n",
    "    \n",
    "    hosp_week_selected.loc[index, 'hospitalization_per_100k_gpt_trend'] = completion.choices[0].message.content\n",
    "    print(completion.choices[0].message.content)\n",
    "    "
   ]
  },
  {
   "cell_type": "code",
   "execution_count": null,
   "id": "1fd739c7",
   "metadata": {},
   "outputs": [],
   "source": [
    "hosp_week_selected.to_pickle(cwd + '/processed_data/hosp_gpt_trend.pkl')"
   ]
  },
  {
   "cell_type": "markdown",
   "id": "ed5c56fa",
   "metadata": {},
   "source": [
    "### Case"
   ]
  },
  {
   "cell_type": "code",
   "execution_count": 14,
   "id": "01147d6d",
   "metadata": {},
   "outputs": [],
   "source": [
    "cases = pd.read_pickle(cwd + '/processed_data/confimed_cases_daily_state.pkl')"
   ]
  },
  {
   "cell_type": "code",
   "execution_count": 15,
   "id": "4a4c1f4a",
   "metadata": {},
   "outputs": [
    {
     "name": "stderr",
     "output_type": "stream",
     "text": [
      "/var/folders/fg/qtvw7sp54r91rm2skfzzb8ww0000gn/T/ipykernel_31269/3838927709.py:2: FutureWarning: The default value of numeric_only in DataFrameGroupBy.sum is deprecated. In a future version, numeric_only will default to False. Either specify numeric_only or select only columns which should be valid for the function.\n",
      "  cases_week = cases.drop(columns = ['Date'])\\\n"
     ]
    }
   ],
   "source": [
    "cases['Week'] = cases['Date'].dt.to_period('W')\n",
    "cases_week = cases.drop(columns = ['Date'])\\\n",
    ".groupby(['Week', 'state_name', 'fips','Description']).sum().reset_index()\n",
    "cases_week['Week_start'] = cases_week['Week'].apply(lambda r: r.start_time).dt.to_period('D').dt.strftime('%Y-%m-%d')\n",
    "cases_week['Week_end'] = cases_week['Week'].apply(lambda r: r.end_time).dt.to_period('D').dt.strftime('%Y-%m-%d')\n",
    "\n",
    "cases_week = cases_week.rename(columns = {'value' : 'Reported_cases'}).drop(columns = ['Description'])\n",
    "\n"
   ]
  },
  {
   "cell_type": "code",
   "execution_count": 17,
   "id": "dffecbb2",
   "metadata": {},
   "outputs": [],
   "source": [
    "df = hosp_week.merge(cases_week)"
   ]
  },
  {
   "cell_type": "code",
   "execution_count": 19,
   "id": "7536a2db",
   "metadata": {
    "scrolled": true
   },
   "outputs": [],
   "source": [
    "df = df.rename(columns = {'Population' : 'population', 'Reported_cases' : 'reported_cases'})\n",
    "df['reported_cases_per_100k'] = (df['reported_cases']/df['population'])*100000\n",
    "df['reported_cases_per_100k'] = round(df['reported_cases_per_100k'],1)\n",
    "cases_selected = df[['state_name', 'fips', 'Week', 'Week_start', 'Week_end', 'reported_cases_per_100k']]\n",
    "cases_selected = cases_selected[(cases_selected['Week_end'] >= '2021-01-01')\\\n",
    "         &(cases_selected['Week_end'] <= '2023-01-10')].reset_index().drop(columns = ['index'])"
   ]
  },
  {
   "cell_type": "code",
   "execution_count": null,
   "id": "aea189d2",
   "metadata": {},
   "outputs": [],
   "source": [
    "for index, row in cases_selected.iterrows():\n",
    "    prompt =  \"Describe all information in this time-series: \" + \\\n",
    "    cases_selected['reported_cases_per_100k_past_5'][index]\n",
    "    \n",
    "    completion = openai.ChatCompletion.create(\n",
    "      model = \"gpt-3.5-turbo\",\n",
    "      temperature = 1,\n",
    "      max_tokens = 300,\n",
    "      seed=1,\n",
    "      messages = [\n",
    "        {\"role\": \"system\", \n",
    "         \"content\": \"You are a helpful assistant for summarizing the key Trends, Averages, Anomalies, and Rate of Change in the most recent five weeks of COVID-19 reported cases per 100K in a concise written format (one Paragraph).\"},\n",
    "        {\"role\": \"user\", \"content\" : prompt}\n",
    "      ]\n",
    "    )\n",
    "    \n",
    "    cases_selected.loc[index, 'reported_cases_per_100k_gpt_trend'] = completion.choices[0].message.content\n",
    "    \n",
    "    \n",
    "    "
   ]
  },
  {
   "cell_type": "code",
   "execution_count": null,
   "id": "f4047f07",
   "metadata": {},
   "outputs": [],
   "source": [
    "cases_selected.to_pickle(cwd + '/processed_data/cases_gpt_trend.pkl')"
   ]
  }
 ],
 "metadata": {
  "kernelspec": {
   "display_name": "Python 3 (ipykernel)",
   "language": "python",
   "name": "python3"
  },
  "language_info": {
   "codemirror_mode": {
    "name": "ipython",
    "version": 3
   },
   "file_extension": ".py",
   "mimetype": "text/x-python",
   "name": "python",
   "nbconvert_exporter": "python",
   "pygments_lexer": "ipython3",
   "version": "3.9.17"
  }
 },
 "nbformat": 4,
 "nbformat_minor": 5
}
