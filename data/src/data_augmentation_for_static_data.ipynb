{
 "cells": [
  {
   "cell_type": "code",
   "execution_count": 6,
   "id": "2132ec5b",
   "metadata": {},
   "outputs": [],
   "source": [
    "import openai\n",
    "import pandas as pd\n",
    "import numpy as np\n",
    "import os"
   ]
  },
  {
   "cell_type": "code",
   "execution_count": null,
   "id": "efddeb6d",
   "metadata": {},
   "outputs": [],
   "source": [
    "api_key = \"Your Key\"\n",
    "openai.api_key = api_key"
   ]
  },
  {
   "cell_type": "code",
   "execution_count": 7,
   "id": "bb25e540",
   "metadata": {},
   "outputs": [],
   "source": [
    "cwd = os.getcwd()"
   ]
  },
  {
   "cell_type": "code",
   "execution_count": 9,
   "id": "048ed155",
   "metadata": {},
   "outputs": [],
   "source": [
    "static = pd.read_pickle(cwd + '/processed_data/static_data.pkl')"
   ]
  },
  {
   "cell_type": "code",
   "execution_count": null,
   "id": "62c3c116",
   "metadata": {},
   "outputs": [],
   "source": [
    "for i in range(len(static)):\n",
    "    sentences = [static.loc[i, 'Static_description_v1']]\n",
    "    prompt = \"Please rewrite the following sentences in a different way:\\n\\n\" + \\\n",
    "         \"\\n\".join(f\"{i + 1}. {sentence}\" for i, sentence in enumerate(sentences))\n",
    "    response = openai.Completion.create(\n",
    "            engine=\"text-davinci-003\",  # Or any other available engine\n",
    "            prompt=prompt,\n",
    "            max_tokens=800,  # Adjust the max tokens as needed\n",
    "            n=2,  # Number of completions to generate\n",
    "            stop=None,  # Optional: you can specify stopping criteria\n",
    "            temperature=0.6)\n",
    "    rewritten_text = response.choices[0].text.strip()    \n",
    "    static.loc[i, 'Static_description_v2'] = rewritten_text\n",
    "    "
   ]
  },
  {
   "cell_type": "code",
   "execution_count": null,
   "id": "4902764b",
   "metadata": {},
   "outputs": [],
   "source": [
    "for i in range(len(static)):\n",
    "    sentences = [static.loc[i, 'Static_description']]\n",
    "    prompt = \"Please rewrite the following sentences in a different way:\\n\\n\" + \\\n",
    "         \"\\n\".join(f\"{i + 1}. {sentence}\" for i, sentence in enumerate(sentences))\n",
    "    response = openai.Completion.create(\n",
    "            engine=\"text-davinci-003\",  # Or any other available engine\n",
    "            prompt=prompt,\n",
    "            max_tokens=800,  # Adjust the max tokens as needed\n",
    "            n=1,  # Number of completions to generate\n",
    "            stop=None,  # Optional: you can specify stopping criteria\n",
    "            temperature=0.7)\n",
    "    rewritten_text = response.choices[0].text.strip()    \n",
    "    static.loc[i, 'Static_description_v3'] = rewritten_text\n",
    "    \n",
    "    print(rewritten_text)\n",
    "    "
   ]
  },
  {
   "cell_type": "code",
   "execution_count": null,
   "id": "9039d623",
   "metadata": {},
   "outputs": [],
   "source": [
    "for i in range(len(static)):\n",
    "    sentences = [static.loc[i, 'Static_description_v1']]\n",
    "    prompt = \"Please rewrite the following sentences in a different way:\\n\\n\" + \\\n",
    "         \"\\n\".join(f\"{i + 1}. {sentence}\" for i, sentence in enumerate(sentences))\n",
    "    response = openai.Completion.create(\n",
    "            engine=\"text-davinci-003\",  # Or any other available engine\n",
    "            prompt=prompt,\n",
    "            max_tokens=800,  # Adjust the max tokens as needed\n",
    "            n=1,  # Number of completions to generate\n",
    "            stop=None,  # Optional: you can specify stopping criteria\n",
    "            temperature=0.8)\n",
    "    rewritten_text = response.choices[0].text.strip()    \n",
    "    static.loc[i, 'Static_description_v4'] = rewritten_text\n",
    "    \n",
    "    print(rewritten_text)\n",
    "    "
   ]
  },
  {
   "cell_type": "code",
   "execution_count": null,
   "id": "976cc6f4",
   "metadata": {},
   "outputs": [],
   "source": [
    "for i in range(len(static)):\n",
    "    sentences = [static.loc[i, 'Static_description_v1']]\n",
    "    prompt = \"Please rewrite the following sentences in a different way:\\n\\n\" + \\\n",
    "         \"\\n\".join(f\"{i + 1}. {sentence}\" for i, sentence in enumerate(sentences))\n",
    "    response = openai.Completion.create(\n",
    "            engine=\"text-davinci-003\",  # Or any other available engine\n",
    "            prompt=prompt,\n",
    "            max_tokens=800,  # Adjust the max tokens as needed\n",
    "            n=1,  # Number of completions to generate\n",
    "            stop=None,  # Optional: you can specify stopping criteria\n",
    "            temperature=0.75)\n",
    "    rewritten_text = response.choices[0].text.strip()    \n",
    "    static.loc[i, 'Static_description_v5'] = rewritten_text\n",
    "    \n",
    "\n",
    "    "
   ]
  },
  {
   "cell_type": "code",
   "execution_count": null,
   "id": "1e2aa7f1",
   "metadata": {},
   "outputs": [],
   "source": [
    "pd.read_pickle(cwd + '/processed_data/static_data_v2.pkl')"
   ]
  }
 ],
 "metadata": {
  "kernelspec": {
   "display_name": "Python 3 (ipykernel)",
   "language": "python",
   "name": "python3"
  },
  "language_info": {
   "codemirror_mode": {
    "name": "ipython",
    "version": 3
   },
   "file_extension": ".py",
   "mimetype": "text/x-python",
   "name": "python",
   "nbconvert_exporter": "python",
   "pygments_lexer": "ipython3",
   "version": "3.9.17"
  }
 },
 "nbformat": 4,
 "nbformat_minor": 5
}
