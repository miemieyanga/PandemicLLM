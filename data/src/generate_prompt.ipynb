{
 "cells": [
  {
   "cell_type": "code",
   "execution_count": 203,
   "id": "251f41ad",
   "metadata": {},
   "outputs": [],
   "source": [
    "import pandas as pd\n",
    "import numpy as np\n",
    "import os \n"
   ]
  },
  {
   "cell_type": "code",
   "execution_count": 204,
   "id": "b9f3aeb9",
   "metadata": {},
   "outputs": [],
   "source": [
    "cwd = os.getcwd()"
   ]
  },
  {
   "cell_type": "code",
   "execution_count": 271,
   "id": "12967cca",
   "metadata": {
    "scrolled": true
   },
   "outputs": [],
   "source": [
    "dynamic = pd.read_pickle(cwd + '/processed_data/all_data.pkl')"
   ]
  },
  {
   "cell_type": "markdown",
   "id": "6ac3c66b",
   "metadata": {},
   "source": [
    "### Vaccine Prompt"
   ]
  },
  {
   "cell_type": "code",
   "execution_count": 272,
   "id": "acd29d76",
   "metadata": {},
   "outputs": [],
   "source": [
    "dynamic_vaccine = dynamic[['state_name', 'fips', 'Week_end', 'Dose1_Pop_Pct', 'Series_Complete_Pop_Pct',\n",
    "       'Additional_Doses_Vax_Pct']]\n",
    "for fips in dynamic_vaccine['fips'].unique():\n",
    "    \n",
    "    index = dynamic_vaccine[dynamic_vaccine['fips'] == fips].index\n",
    "    dynamic_vaccine.loc[index, ['Dose1_Pop_Pct_diff', 'Series_Complete_Pop_Pct_diff', 'Additional_Doses_Vax_Pct_diff']] = \\\n",
    "    dynamic_vaccine[dynamic_vaccine['fips'] == fips].loc[:, ['Dose1_Pop_Pct', 'Series_Complete_Pop_Pct','Additional_Doses_Vax_Pct']].diff().values\n",
    "dynamic_vaccine = dynamic_vaccine.fillna(0)\n",
    "dynamic_vaccine[dynamic_vaccine['Dose1_Pop_Pct']>0].sort_values('Week_end')\n",
    "index1 = dynamic_vaccine[dynamic_vaccine['Dose1_Pop_Pct_diff']<=0.1].index\n",
    "index2 = dynamic_vaccine[(dynamic_vaccine['Dose1_Pop_Pct_diff']>0.1)&\\\n",
    "                        (dynamic_vaccine['Dose1_Pop_Pct_diff']<=0.37)].index\n",
    "index3 = dynamic_vaccine[(dynamic_vaccine['Dose1_Pop_Pct_diff']>0.37)&\\\n",
    "                        (dynamic_vaccine['Dose1_Pop_Pct_diff']<=0.85)].index\n",
    "index4 = dynamic_vaccine[(dynamic_vaccine['Dose1_Pop_Pct_diff']>0.85)].index\n",
    "dynamic_vaccine.loc[index1, '1_dose_trend'] = 'Stable'\n",
    "dynamic_vaccine.loc[index2, '1_dose_trend'] = 'Slight Increase'\n",
    "dynamic_vaccine.loc[index3, '1_dose_trend'] = 'Moderate Increase'\n",
    "dynamic_vaccine.loc[index4, '1_dose_trend'] = 'Rapid Increase'\n",
    "\n",
    "index1 = dynamic_vaccine[dynamic_vaccine['Series_Complete_Pop_Pct_diff']<=0.1].index\n",
    "index2 = dynamic_vaccine[(dynamic_vaccine['Series_Complete_Pop_Pct_diff']>0.1)&\\\n",
    "                        (dynamic_vaccine['Series_Complete_Pop_Pct_diff']<=0.257)].index\n",
    "index3 = dynamic_vaccine[(dynamic_vaccine['Series_Complete_Pop_Pct_diff']>0.257)&\\\n",
    "                        (dynamic_vaccine['Series_Complete_Pop_Pct_diff']<=0.6)].index\n",
    "index4 = dynamic_vaccine[(dynamic_vaccine['Series_Complete_Pop_Pct_diff']>0.6)].index\n",
    "dynamic_vaccine.loc[index1, '2_doses_trend'] = 'Stable'\n",
    "dynamic_vaccine.loc[index2, '2_doses_trend'] = 'Slight Increase'\n",
    "dynamic_vaccine.loc[index3, '2_doses_trend'] = 'Moderate Increase'\n",
    "dynamic_vaccine.loc[index4, '2_doses_trend'] = 'Rapid Increase'\n",
    "\n",
    "index1 = dynamic_vaccine[dynamic_vaccine['Additional_Doses_Vax_Pct_diff']<=0.1].index\n",
    "index2 = dynamic_vaccine[(dynamic_vaccine['Additional_Doses_Vax_Pct_diff']>0.1)&\\\n",
    "                        (dynamic_vaccine['Additional_Doses_Vax_Pct_diff']<=0.2)].index\n",
    "index3 = dynamic_vaccine[(dynamic_vaccine['Additional_Doses_Vax_Pct_diff']>0.2)&\\\n",
    "                        (dynamic_vaccine['Additional_Doses_Vax_Pct_diff']<=0.85)].index\n",
    "index4 = dynamic_vaccine[(dynamic_vaccine['Additional_Doses_Vax_Pct_diff']>0.85)].index\n",
    "dynamic_vaccine.loc[index1, 'booster_trend'] = 'Stable'\n",
    "dynamic_vaccine.loc[index2, 'booster_trend'] = 'Slight Increase'\n",
    "dynamic_vaccine.loc[index3, 'booster_trend'] = 'Moderate Increase'\n",
    "dynamic_vaccine.loc[index4, 'booster_trend'] = 'Rapid Increase'"
   ]
  },
  {
   "cell_type": "code",
   "execution_count": 273,
   "id": "ea2bcd24",
   "metadata": {},
   "outputs": [],
   "source": [
    "for index, row in dynamic_vaccine.iterrows():\n",
    "    dose1 = str(int(row['Dose1_Pop_Pct']))[:2]\n",
    "    dose2 = str(int(row['Series_Complete_Pop_Pct']))[:2]\n",
    "    booster = str(int(row['Additional_Doses_Vax_Pct']))[:2]\n",
    "    \n",
    "    prompt = 'To date, ' + dose1 + '% of population got at least one vaccine dose with a ' \\\n",
    "    + row['1_dose_trend'] + ' trend, ' +\\\n",
    "    dose2 + '% were fully vaccinated with a ' + row['2_doses_trend'] + ' trend, ' + \\\n",
    "    'and ' + booster + '% got booster with a ' + row['booster_trend'] + ' trend.'\n",
    "    \n",
    "    dynamic_vaccine.loc[index, 'Vaccine_prompt'] = prompt"
   ]
  },
  {
   "cell_type": "code",
   "execution_count": 274,
   "id": "f82b3b23",
   "metadata": {},
   "outputs": [],
   "source": [
    "dynamic = dynamic.merge(dynamic_vaccine[['state_name', 'fips', 'Week_end', 'Vaccine_prompt']])"
   ]
  },
  {
   "cell_type": "markdown",
   "id": "d24151d5",
   "metadata": {},
   "source": [
    "### Previous infection prompt"
   ]
  },
  {
   "cell_type": "code",
   "execution_count": 275,
   "id": "00751f2a",
   "metadata": {},
   "outputs": [],
   "source": [
    "dynamic_inf = dynamic[['state_name', 'fips', 'Week_end', 'previous_infection_12w']]\n",
    "for fips in dynamic_inf['fips'].unique():\n",
    "    \n",
    "    index = dynamic_inf[dynamic_inf['fips'] == fips].index\n",
    "    dynamic_inf.loc[index, ['previous_infection_12w_diff']] = \\\n",
    "    dynamic_inf[dynamic_inf['fips'] == fips].loc[:, 'previous_infection_12w'].diff().values\n",
    "        \n",
    "dynamic_inf = dynamic_inf.fillna(0)\n",
    "\n",
    "index1 = dynamic_inf[dynamic_inf['previous_infection_12w_diff']<=-0.2].index\n",
    "index2 = dynamic_inf[(dynamic_inf['previous_infection_12w_diff']>-0.2)&\\\n",
    "                        (dynamic_inf['previous_infection_12w_diff']<=0)].index\n",
    "index3 = dynamic_inf[(dynamic_inf['previous_infection_12w_diff']>0)&\\\n",
    "                        (dynamic_inf['previous_infection_12w_diff']<=0.1)].index\n",
    "index4 = dynamic_inf[(dynamic_inf['previous_infection_12w_diff']>0.1)].index\n",
    "dynamic_inf.loc[index1, 'prev_inf_trend'] = 'Rapid Decrease'\n",
    "dynamic_inf.loc[index2, 'prev_inf_trend'] = 'Moderate Decrease'\n",
    "dynamic_inf.loc[index3, 'prev_inf_trend'] = 'Moderate Increase'\n",
    "dynamic_inf.loc[index4, 'prev_inf_trend'] = 'Rapid Increase'\n",
    "\n",
    "for index, row in dynamic_inf.iterrows():\n",
    "    pre_inf = str(round(row['previous_infection_12w'], 1))\n",
    "    prompt = 'Around ' \\\n",
    "    + pre_inf + \\\n",
    "    '% of the population reported infections over the past three months, the population immunity is ' +\\\n",
    "    row['prev_inf_trend'] + '.'\n",
    "    dynamic_inf.loc[index, 'Previous_infection_prompt'] = prompt\n",
    "    \n",
    "dynamic = dynamic.merge(dynamic_inf[['state_name', 'fips', 'Week_end', 'Previous_infection_prompt']])"
   ]
  },
  {
   "cell_type": "markdown",
   "id": "b4b695e1",
   "metadata": {},
   "source": [
    "### Policy Prompt"
   ]
  },
  {
   "cell_type": "code",
   "execution_count": 276,
   "id": "7628b103",
   "metadata": {},
   "outputs": [
    {
     "name": "stderr",
     "output_type": "stream",
     "text": [
      "/var/folders/fg/qtvw7sp54r91rm2skfzzb8ww0000gn/T/ipykernel_30162/858000607.py:9: SettingWithCopyWarning: \n",
      "A value is trying to be set on a copy of a slice from a DataFrame.\n",
      "Try using .loc[row_indexer,col_indexer] = value instead\n",
      "\n",
      "See the caveats in the documentation: https://pandas.pydata.org/pandas-docs/stable/user_guide/indexing.html#returning-a-view-versus-a-copy\n",
      "  policy['C1M_School closing'] = policy['C1M_School closing'].replace('require closing all levels',\n",
      "/var/folders/fg/qtvw7sp54r91rm2skfzzb8ww0000gn/T/ipykernel_30162/858000607.py:11: SettingWithCopyWarning: \n",
      "A value is trying to be set on a copy of a slice from a DataFrame.\n",
      "Try using .loc[row_indexer,col_indexer] = value instead\n",
      "\n",
      "See the caveats in the documentation: https://pandas.pydata.org/pandas-docs/stable/user_guide/indexing.html#returning-a-view-versus-a-copy\n",
      "  policy['C1M_School closing'] = policy['C1M_School closing'].replace('no measures',\n",
      "/var/folders/fg/qtvw7sp54r91rm2skfzzb8ww0000gn/T/ipykernel_30162/858000607.py:13: SettingWithCopyWarning: \n",
      "A value is trying to be set on a copy of a slice from a DataFrame.\n",
      "Try using .loc[row_indexer,col_indexer] = value instead\n",
      "\n",
      "See the caveats in the documentation: https://pandas.pydata.org/pandas-docs/stable/user_guide/indexing.html#returning-a-view-versus-a-copy\n",
      "  policy['C1M_School closing'] = policy['C1M_School closing'].replace('recommend closing or all schools open with alterations resulting in significant differences compared to non-Covid-19 operations',\n",
      "/var/folders/fg/qtvw7sp54r91rm2skfzzb8ww0000gn/T/ipykernel_30162/858000607.py:15: SettingWithCopyWarning: \n",
      "A value is trying to be set on a copy of a slice from a DataFrame.\n",
      "Try using .loc[row_indexer,col_indexer] = value instead\n",
      "\n",
      "See the caveats in the documentation: https://pandas.pydata.org/pandas-docs/stable/user_guide/indexing.html#returning-a-view-versus-a-copy\n",
      "  policy['C1M_School closing'] = policy['C1M_School closing'].replace('require closing (only some levels or categories, eg just high school, or just public schools)',\n",
      "/var/folders/fg/qtvw7sp54r91rm2skfzzb8ww0000gn/T/ipykernel_30162/858000607.py:18: SettingWithCopyWarning: \n",
      "A value is trying to be set on a copy of a slice from a DataFrame.\n",
      "Try using .loc[row_indexer,col_indexer] = value instead\n",
      "\n",
      "See the caveats in the documentation: https://pandas.pydata.org/pandas-docs/stable/user_guide/indexing.html#returning-a-view-versus-a-copy\n",
      "  policy['C2M_Workplace closing'] = policy['C2M_Workplace closing'].replace('require closing (or work from home) for all-but-essential workplaces (eg grocery stores, doctors)',\n",
      "/var/folders/fg/qtvw7sp54r91rm2skfzzb8ww0000gn/T/ipykernel_30162/858000607.py:20: SettingWithCopyWarning: \n",
      "A value is trying to be set on a copy of a slice from a DataFrame.\n",
      "Try using .loc[row_indexer,col_indexer] = value instead\n",
      "\n",
      "See the caveats in the documentation: https://pandas.pydata.org/pandas-docs/stable/user_guide/indexing.html#returning-a-view-versus-a-copy\n",
      "  policy['C2M_Workplace closing'] = policy['C2M_Workplace closing'].replace('no measures',\n",
      "/var/folders/fg/qtvw7sp54r91rm2skfzzb8ww0000gn/T/ipykernel_30162/858000607.py:22: SettingWithCopyWarning: \n",
      "A value is trying to be set on a copy of a slice from a DataFrame.\n",
      "Try using .loc[row_indexer,col_indexer] = value instead\n",
      "\n",
      "See the caveats in the documentation: https://pandas.pydata.org/pandas-docs/stable/user_guide/indexing.html#returning-a-view-versus-a-copy\n",
      "  policy['C2M_Workplace closing'] = policy['C2M_Workplace closing'].replace('recommend closing (or recommend work from home) or all businesses open with alterations resulting in significant differences compared to non-Covid-19 operation',\n",
      "/var/folders/fg/qtvw7sp54r91rm2skfzzb8ww0000gn/T/ipykernel_30162/858000607.py:24: SettingWithCopyWarning: \n",
      "A value is trying to be set on a copy of a slice from a DataFrame.\n",
      "Try using .loc[row_indexer,col_indexer] = value instead\n",
      "\n",
      "See the caveats in the documentation: https://pandas.pydata.org/pandas-docs/stable/user_guide/indexing.html#returning-a-view-versus-a-copy\n",
      "  policy['C2M_Workplace closing'] = policy['C2M_Workplace closing'].replace('require closing (or work from home) for some sectors or categories of workers',\n",
      "/var/folders/fg/qtvw7sp54r91rm2skfzzb8ww0000gn/T/ipykernel_30162/858000607.py:31: SettingWithCopyWarning: \n",
      "A value is trying to be set on a copy of a slice from a DataFrame.\n",
      "Try using .loc[row_indexer,col_indexer] = value instead\n",
      "\n",
      "See the caveats in the documentation: https://pandas.pydata.org/pandas-docs/stable/user_guide/indexing.html#returning-a-view-versus-a-copy\n",
      "  policy_select['H8M_Protection of elderly people'] = policy_select['H8M_Protection of elderly people'].replace('Narrow restrictions for isolation, hygiene in LTCFs, some limitations on external visitors and/or restrictions protecting elderly people at home',\n",
      "/var/folders/fg/qtvw7sp54r91rm2skfzzb8ww0000gn/T/ipykernel_30162/858000607.py:34: SettingWithCopyWarning: \n",
      "A value is trying to be set on a copy of a slice from a DataFrame.\n",
      "Try using .loc[row_indexer,col_indexer] = value instead\n",
      "\n",
      "See the caveats in the documentation: https://pandas.pydata.org/pandas-docs/stable/user_guide/indexing.html#returning-a-view-versus-a-copy\n",
      "  policy_select['H8M_Protection of elderly people'] = policy_select['H8M_Protection of elderly people'].replace('Recommended isolation, hygiene, and visitor restriction measures in LTCFs and/or elderly people to stay at home',\n",
      "/var/folders/fg/qtvw7sp54r91rm2skfzzb8ww0000gn/T/ipykernel_30162/858000607.py:37: SettingWithCopyWarning: \n",
      "A value is trying to be set on a copy of a slice from a DataFrame.\n",
      "Try using .loc[row_indexer,col_indexer] = value instead\n",
      "\n",
      "See the caveats in the documentation: https://pandas.pydata.org/pandas-docs/stable/user_guide/indexing.html#returning-a-view-versus-a-copy\n",
      "  policy_select['H8M_Protection of elderly people'] = policy_select['H8M_Protection of elderly people'].replace('Extensive restrictions for isolation and hygiene in LTCFs, all non-essential external visitors prohibited, and/or all elderly people required to stay at home and not leave the home with minimal exceptions, and receive no external visitors',\n",
      "/var/folders/fg/qtvw7sp54r91rm2skfzzb8ww0000gn/T/ipykernel_30162/858000607.py:45: SettingWithCopyWarning: \n",
      "A value is trying to be set on a copy of a slice from a DataFrame.\n",
      "Try using .loc[row_indexer,col_indexer] = value instead\n",
      "\n",
      "See the caveats in the documentation: https://pandas.pydata.org/pandas-docs/stable/user_guide/indexing.html#returning-a-view-versus-a-copy\n",
      "  policy_select.loc[index, col + '_lag1'] = policy_select[policy_select['fips'] == fips][col].shift(1)\n",
      "/var/folders/fg/qtvw7sp54r91rm2skfzzb8ww0000gn/T/ipykernel_30162/858000607.py:45: SettingWithCopyWarning: \n",
      "A value is trying to be set on a copy of a slice from a DataFrame\n",
      "\n",
      "See the caveats in the documentation: https://pandas.pydata.org/pandas-docs/stable/user_guide/indexing.html#returning-a-view-versus-a-copy\n",
      "  policy_select.loc[index, col + '_lag1'] = policy_select[policy_select['fips'] == fips][col].shift(1)\n",
      "/var/folders/fg/qtvw7sp54r91rm2skfzzb8ww0000gn/T/ipykernel_30162/858000607.py:45: SettingWithCopyWarning: \n",
      "A value is trying to be set on a copy of a slice from a DataFrame.\n",
      "Try using .loc[row_indexer,col_indexer] = value instead\n",
      "\n",
      "See the caveats in the documentation: https://pandas.pydata.org/pandas-docs/stable/user_guide/indexing.html#returning-a-view-versus-a-copy\n",
      "  policy_select.loc[index, col + '_lag1'] = policy_select[policy_select['fips'] == fips][col].shift(1)\n",
      "/var/folders/fg/qtvw7sp54r91rm2skfzzb8ww0000gn/T/ipykernel_30162/858000607.py:45: SettingWithCopyWarning: \n",
      "A value is trying to be set on a copy of a slice from a DataFrame\n",
      "\n",
      "See the caveats in the documentation: https://pandas.pydata.org/pandas-docs/stable/user_guide/indexing.html#returning-a-view-versus-a-copy\n",
      "  policy_select.loc[index, col + '_lag1'] = policy_select[policy_select['fips'] == fips][col].shift(1)\n",
      "/var/folders/fg/qtvw7sp54r91rm2skfzzb8ww0000gn/T/ipykernel_30162/858000607.py:45: SettingWithCopyWarning: \n",
      "A value is trying to be set on a copy of a slice from a DataFrame.\n",
      "Try using .loc[row_indexer,col_indexer] = value instead\n",
      "\n",
      "See the caveats in the documentation: https://pandas.pydata.org/pandas-docs/stable/user_guide/indexing.html#returning-a-view-versus-a-copy\n",
      "  policy_select.loc[index, col + '_lag1'] = policy_select[policy_select['fips'] == fips][col].shift(1)\n",
      "/var/folders/fg/qtvw7sp54r91rm2skfzzb8ww0000gn/T/ipykernel_30162/858000607.py:45: SettingWithCopyWarning: \n",
      "A value is trying to be set on a copy of a slice from a DataFrame\n",
      "\n",
      "See the caveats in the documentation: https://pandas.pydata.org/pandas-docs/stable/user_guide/indexing.html#returning-a-view-versus-a-copy\n",
      "  policy_select.loc[index, col + '_lag1'] = policy_select[policy_select['fips'] == fips][col].shift(1)\n"
     ]
    }
   ],
   "source": [
    "policy = dynamic[['fips', 'Week_end','C1M_School closing',\n",
    "       'C2M_Workplace closing', 'C3M_Cancel public events',\n",
    "       'C4M_Restrictions on gatherings', 'C6M_Stay at home requirements',\n",
    "       'C7M_Restrictions on internal movement',\n",
    "       'C8NV_International travel controls',\n",
    "       'C8V_International travel controls', 'H1_Public information campaigns',\n",
    "       'H2_Testing policy', 'H3_Contact tracing', 'H6M_Facial Coverings',\n",
    "       'H8M_Protection of elderly people']]\n",
    "policy['C1M_School closing'] = policy['C1M_School closing'].replace('require closing all levels', \n",
    "                                                                    'require closing all')\n",
    "policy['C1M_School closing'] = policy['C1M_School closing'].replace('no measures', \n",
    "                                                                    'no restrictions')\n",
    "policy['C1M_School closing'] = policy['C1M_School closing'].replace('recommend closing or all schools open with alterations resulting in significant differences compared to non-Covid-19 operations', \n",
    "                                     'recommend closing')\n",
    "policy['C1M_School closing'] = policy['C1M_School closing'].replace('require closing (only some levels or categories, eg just high school, or just public schools)', \n",
    "                                     'require closing some')\n",
    "\n",
    "policy['C2M_Workplace closing'] = policy['C2M_Workplace closing'].replace('require closing (or work from home) for all-but-essential workplaces (eg grocery stores, doctors)', \n",
    "                                                                          'require closing all')\n",
    "policy['C2M_Workplace closing'] = policy['C2M_Workplace closing'].replace('no measures', \n",
    "                                                                          'no restrictions')\n",
    "policy['C2M_Workplace closing'] = policy['C2M_Workplace closing'].replace('recommend closing (or recommend work from home) or all businesses open with alterations resulting in significant differences compared to non-Covid-19 operation', \n",
    "                                     'recommend closing')\n",
    "policy['C2M_Workplace closing'] = policy['C2M_Workplace closing'].replace('require closing (or work from home) for some sectors or categories of workers', \n",
    "                                     'require closing some')\n",
    "\n",
    "policy_select = policy[['fips', 'Week_end', 'C1M_School closing', 'C2M_Workplace closing',\n",
    "       'C4M_Restrictions on gatherings',\n",
    "       'H8M_Protection of elderly people']]\n",
    "policy_select['H8M_Protection of elderly people'].unique()\n",
    "policy_select['H8M_Protection of elderly people'] = policy_select['H8M_Protection of elderly people'].replace('Narrow restrictions for isolation, hygiene in LTCFs, some limitations on external visitors and/or restrictions protecting elderly people at home',\n",
    "                                                         'Narrow restrictions for isolation, some limitations on external visitors.')\n",
    "\n",
    "policy_select['H8M_Protection of elderly people'] = policy_select['H8M_Protection of elderly people'].replace('Recommended isolation, hygiene, and visitor restriction measures in LTCFs and/or elderly people to stay at home',\n",
    "                                                         'Recommended isolation, and visitor restriction.')\n",
    "\n",
    "policy_select['H8M_Protection of elderly people'] = policy_select['H8M_Protection of elderly people'].replace('Extensive restrictions for isolation and hygiene in LTCFs, all non-essential external visitors prohibited, and/or all elderly people required to stay at home and not leave the home with minimal exceptions, and receive no external visitors',\n",
    "                                                         'Extensive restrictions for isolation and all non-essential external visitors prohibited.')\n",
    "\n",
    "for col in ['C1M_School closing', 'C2M_Workplace closing',\n",
    "            'C4M_Restrictions on gatherings']:\n",
    "    for fips in policy_select['fips'].unique():\n",
    "        index = policy_select[policy_select['fips'] == fips].index\n",
    "        \n",
    "        policy_select.loc[index, col + '_lag1'] = policy_select[policy_select['fips'] == fips][col].shift(1)\n",
    "\n",
    "policy_select = policy_select.fillna(method='bfill')"
   ]
  },
  {
   "cell_type": "code",
   "execution_count": 277,
   "id": "32e697de",
   "metadata": {},
   "outputs": [],
   "source": [
    "for index, row in policy_select.iterrows():\n",
    "    if (row['C1M_School closing'] == row['C1M_School closing_lag1']) and\\\n",
    "    (row['C2M_Workplace closing'] == row['C2M_Workplace closing_lag1']) and\\\n",
    "    (row['C4M_Restrictions on gatherings'] == row['C4M_Restrictions on gatherings_lag1']):\n",
    "        \n",
    "#         prompt = 'All containment and closure policies remain the same as previous week '\n",
    "        prompt = '' + \\\n",
    "        row['C1M_School closing'] + ' for school policy, ' + row['C2M_Workplace closing'] +\\\n",
    "        ' for workplace, ' + row['C4M_Restrictions on gatherings'] + ' for gatherings.'\n",
    "        \n",
    "        policy_select.loc[index, 'policy_prompt_1'] = prompt\n",
    "        \n",
    "    else:\n",
    "        \n",
    "        prompt = ''\n",
    "#         prompt = 'There are some changes in the containment and closure policies. '\n",
    "        \n",
    "        if row['C1M_School closing'] != row['C1M_School closing_lag1']:\n",
    "            prompt_school = 'For school policy change from ' + row['C1M_School closing_lag1'] +\\\n",
    "            ' to ' + row['C1M_School closing'] + '. '\n",
    "        else:\n",
    "            prompt_school = 'School policy remains as ' + row['C1M_School closing'] + '. '\n",
    "            \n",
    "        if row['C2M_Workplace closing'] != row['C2M_Workplace closing_lag1']:\n",
    "            prompt_workplace = 'For workplace change from ' + row['C2M_Workplace closing_lag1'] +\\\n",
    "            ' to ' + row['C2M_Workplace closing'] + '. '\n",
    "        else:\n",
    "            prompt_workplace = 'Workplace policy remains as ' + row['C1M_School closing'] + '. '\n",
    "            \n",
    "        if row['C4M_Restrictions on gatherings'] != row['C4M_Restrictions on gatherings_lag1']:\n",
    "            prompt_gathering = 'For gatherings change from ' + row['C4M_Restrictions on gatherings_lag1'] +\\\n",
    "            ' to ' + row['C4M_Restrictions on gatherings'] + '. '\n",
    "        else:\n",
    "            prompt_gathering = 'Gatherings policy remains as ' + row['C4M_Restrictions on gatherings'] + '. '\n",
    "            \n",
    "        prompt = prompt + prompt_school + prompt_workplace + prompt_gathering\n",
    "        \n",
    "        policy_select.loc[index, 'policy_prompt_1'] = prompt\n",
    "            \n",
    "            \n",
    "\n",
    "\n",
    "\n",
    "    "
   ]
  },
  {
   "cell_type": "code",
   "execution_count": 278,
   "id": "5a6fe2dc",
   "metadata": {},
   "outputs": [],
   "source": [
    "policy_select['policy_elderly'] = 'For elderly patients, ' + policy_select['H8M_Protection of elderly people']\n",
    "policy_select['policy_prompt'] = policy_select['policy_prompt_1'] + ' ' + policy_select['policy_elderly']\n",
    "dynamic = dynamic.merge(policy_select[['fips', 'Week_end', 'policy_prompt']])\n",
    "dynamic['policy_prompt'] = dynamic['policy_prompt'].str.capitalize()"
   ]
  },
  {
   "cell_type": "code",
   "execution_count": 279,
   "id": "e7df7d36",
   "metadata": {},
   "outputs": [],
   "source": [
    "static = pd.read_pickle(cwd + '/processed_data/static_data.pkl')"
   ]
  },
  {
   "cell_type": "code",
   "execution_count": 280,
   "id": "964ccc9a",
   "metadata": {},
   "outputs": [],
   "source": [
    "dynamic = dynamic.merge(static)"
   ]
  },
  {
   "cell_type": "code",
   "execution_count": 281,
   "id": "688a98b7",
   "metadata": {},
   "outputs": [],
   "source": [
    "cases_gpt_trend = pd.read_pickle(cwd + '/processed_data/cases_gpt_trend.pkl')\n",
    "hosp_gpt_trend = pd.read_pickle(cwd + '/processed_data/hosp_gpt_trend.pkl')"
   ]
  },
  {
   "cell_type": "code",
   "execution_count": 282,
   "id": "288c3a30",
   "metadata": {
    "scrolled": true
   },
   "outputs": [],
   "source": [
    "dynamic['hospitalization_per_100k_gpt_trend'] = hosp_gpt_trend['hospitalization_per_100k_gpt_trend']\n",
    "dynamic['reported_cases_per_100k_gpt_trend'] = cases_gpt_trend['reported_cases_per_100k_gpt_trend']"
   ]
  },
  {
   "cell_type": "code",
   "execution_count": 287,
   "id": "1c962567",
   "metadata": {},
   "outputs": [],
   "source": [
    "prompt_augmentation = pd.read_pickle(cwd + '/processed_data/dynamic_prompt.pkl')"
   ]
  },
  {
   "cell_type": "code",
   "execution_count": 284,
   "id": "bff8fcdc",
   "metadata": {},
   "outputs": [],
   "source": [
    "dynamic = dynamic.merge(prompt_augmentation)"
   ]
  },
  {
   "cell_type": "code",
   "execution_count": 285,
   "id": "b24a6a89",
   "metadata": {},
   "outputs": [],
   "source": [
    "df_final = dynamic[['state_name', 'fips', 'Week', 'Week_start', 'Week_end',\n",
    "       'hospitalization_per_100k', 'hospitalization_per_100k_sm',\n",
    "       'reported_cases_per_100k', 'Dose1_Pop_Pct', 'Series_Complete_Pop_Pct',\n",
    "       'Additional_Doses_Vax_Pct', 'Abs_Change', 'Abs_Trend',\n",
    "       'reported_cases_per_100k_gpt_trend',\n",
    "       'hospitalization_per_100k_gpt_trend', 'Trend_prompt', 'dynamic_prompt',\n",
    "       'dynamic_prompt_v2', 'dynamic_prompt_v3', \n",
    "       'Population', 'under_20', 'over_65', 'White', 'Black', 'Multiple_race',\n",
    "       'Not_Hispanic', 'Hispanic', 'medicaid_coverage', 'medicare_coverage',\n",
    "       'uninsured_percent', 'medicaid_spending',\n",
    "       'private_health_insurance_spending', 'medicare_spending_by_residence',\n",
    "       'health_care_spending', 'healthcare_utilization', 'poor_health_status',\n",
    "       'adults_at_high_risk', 'poverty_rate', 'social_vulnerability_index',\n",
    "       'Healthcare Access and Quality Index', 'Older_at_high_risk',\n",
    "       'dem_percent', 'rep_percent', 'other_percent', 'State',\n",
    "       'Static_description', 'Static_description_v2', 'Static_description_v3',\n",
    "       'Static_description_v4', 'Static_description_v5', 'Abs_Trend_target_1w', 'Abs_Trend_target_3w']]"
   ]
  },
  {
   "cell_type": "code",
   "execution_count": 270,
   "id": "38dadbc7",
   "metadata": {},
   "outputs": [],
   "source": [
    "df_final.to_pickle(cwd + '/processed_data/final_data.pkl')"
   ]
  },
  {
   "cell_type": "code",
   "execution_count": null,
   "id": "8b07cb67",
   "metadata": {},
   "outputs": [],
   "source": []
  }
 ],
 "metadata": {
  "kernelspec": {
   "display_name": "Python 3 (ipykernel)",
   "language": "python",
   "name": "python3"
  },
  "language_info": {
   "codemirror_mode": {
    "name": "ipython",
    "version": 3
   },
   "file_extension": ".py",
   "mimetype": "text/x-python",
   "name": "python",
   "nbconvert_exporter": "python",
   "pygments_lexer": "ipython3",
   "version": "3.9.17"
  }
 },
 "nbformat": 4,
 "nbformat_minor": 5
}
