{
 "cells": [
  {
   "cell_type": "code",
   "execution_count": 2,
   "id": "a9e99885",
   "metadata": {},
   "outputs": [],
   "source": [
    "import pandas as pd\n",
    "import numpy as np\n",
    "import matplotlib.pyplot as plt\n",
    "import openai\n",
    "import os \n"
   ]
  },
  {
   "cell_type": "code",
   "execution_count": 11,
   "id": "6c5437e3",
   "metadata": {},
   "outputs": [],
   "source": [
    "cwd = os.getcwd()"
   ]
  },
  {
   "cell_type": "code",
   "execution_count": 39,
   "id": "b75c8d6d",
   "metadata": {},
   "outputs": [],
   "source": [
    "hhs_region = pd.read_csv(cwd + '/raw_data/hhs.csv')"
   ]
  },
  {
   "cell_type": "code",
   "execution_count": 13,
   "id": "3e97d22c",
   "metadata": {},
   "outputs": [],
   "source": [
    "ref = pd.read_pickle(cwd + '/processed_data/final_data.pkl')"
   ]
  },
  {
   "cell_type": "code",
   "execution_count": 14,
   "id": "3e029d37",
   "metadata": {},
   "outputs": [],
   "source": [
    "api_key = \"Your Key\"\n",
    "openai.api_key = api_key"
   ]
  },
  {
   "cell_type": "code",
   "execution_count": 15,
   "id": "14f173ea",
   "metadata": {},
   "outputs": [],
   "source": [
    "df_v = pd.read_pickle(cwd + '/processed_data/top_5_variant.pkl')"
   ]
  },
  {
   "cell_type": "code",
   "execution_count": 16,
   "id": "efb3b8f3",
   "metadata": {},
   "outputs": [],
   "source": [
    "df_v.iloc[:, -2:] = round(df_v.iloc[:, -2:], 2)\n",
    "df_v = df_v[df_v['published_date'] >= '2022-02-01'].reset_index().drop(columns = ['index'])\n",
    "df_v = df_v[~df_v['variant'].isin(['BF.7', 'FD.2'])].reset_index().drop(columns = ['index'])\n",
    "df_v = df_v[~df_v['variant'].isin(['B.1'])].reset_index().drop(columns = ['index'])\n",
    "df_v['Week'] = pd.to_datetime(df_v['published_date']).dt.to_period('W')\n",
    "df_v['Week_start'] = df_v['Week'].dt.start_time.dt.strftime('%Y-%m-%d')\n",
    "df_v['Week_end'] = df_v['Week'].dt.end_time.dt.strftime('%Y-%m-%d')\n",
    "df_v = df_v.drop(columns = ['published_date'])\n",
    "df_v = df_v[df_v['prev_2w'] > 0.01].reset_index().drop(columns = ['index'])\n",
    "df_v = df_v[df_v['Week_start'] < '2023-04-01'].reset_index().drop(columns = ['index'])"
   ]
  },
  {
   "cell_type": "code",
   "execution_count": 17,
   "id": "8b6633bf",
   "metadata": {},
   "outputs": [],
   "source": [
    "df_v['prev_2w'] = df_v['prev_2w']*100\n",
    "df_v['prev_1w'] = df_v['prev_1w']*100\n",
    "df_v['prev_1w'] = round(df_v['prev_1w'],0)\n",
    "df_v['prev_2w'] = round(df_v['prev_2w'],0)\n",
    "df_v['prev_1w'] = df_v['prev_1w'].astype(str) + '%'\n",
    "df_v['prev_2w'] = df_v['prev_2w'].astype(str) + '%'\n"
   ]
  },
  {
   "cell_type": "code",
   "execution_count": 18,
   "id": "d47a6534",
   "metadata": {},
   "outputs": [],
   "source": [
    "for index, row in df_v.iloc[:, ].iterrows():\n",
    "    prompt =  \"Describe the trend of new COVID-19 emerging variant proportion in recent weeks\" + \\\n",
    "    str(df_v.loc[index, ['prev_2w', 'prev_1w']].to_numpy())\n",
    "    \n",
    "    completion = openai.ChatCompletion.create(\n",
    "      model = \"gpt-3.5-turbo\",\n",
    "      temperature = 1,\n",
    "      max_tokens = 100,\n",
    "      seed=1,\n",
    "      messages = [\n",
    "        {\"role\": \"system\", \n",
    "         \"content\": \"You are a helpful assistant for summarizing the key Trends and comment on Rate of Change for new emerging COVID-19 variant trend in a concise written format (one sentence).\"},\n",
    "        {\"role\": \"user\", \"content\" : prompt}\n",
    "      ]\n",
    "    )\n",
    "    \n",
    "    df_v.loc[index, 'variant_gpt_trend'] = completion.choices[0].message.content\n",
    "#     print(index)    "
   ]
  },
  {
   "cell_type": "code",
   "execution_count": 22,
   "id": "15835c3a",
   "metadata": {},
   "outputs": [],
   "source": [
    "df_variant_des = pd.DataFrame(df_v['variant'].unique())\n",
    "df_variant_des = df_variant_des.rename(columns = {0 : 'variant'})"
   ]
  },
  {
   "cell_type": "code",
   "execution_count": 23,
   "id": "018cb94f",
   "metadata": {},
   "outputs": [],
   "source": [
    "df_variant_des.loc[0, 'transmission'] = \"The new emerging variant is more transmissible than previous sublineages.\"\n",
    "df_variant_des.loc[1, 'transmission'] = \"The new emerging variant has high growth advantages over other sublineages.\"\n",
    "df_variant_des.loc[2, 'transmission'] = \"The new emerging variant has high growth advantages over other sublineages.\"\n",
    "df_variant_des.loc[3, 'transmission'] = \"The new emerging variant is more transmissible than previous sublineages.\"\n",
    "df_variant_des.loc[4, 'transmission'] = \"The new emerging variant has a increased impact on transmissibility. .\"\n",
    "\n",
    "df_variant_des.loc[0, 'immunity'] = \"No evidence in immunity escape.\"\n",
    "df_variant_des.loc[1, 'immunity'] = \"Increased immunity escape, may cause an overall increase in COVID-19 cases.\"\n",
    "df_variant_des.loc[2, 'immunity'] = \"Increased immunity escape, may cause an overall increase in COVID-19 cases.\"\n",
    "df_variant_des.loc[3, 'immunity'] = \"No reported increase in immunity escape.\"\n",
    "df_variant_des.loc[4, 'immunity'] = \"Increased impact on immunity escape.\"\n",
    "\n",
    "df_variant_des.loc[0, 'severity'] = \"No reported difference in severity.\"\n",
    "df_variant_des.loc[1, 'severity'] = \"No significant increase in infection severity.\"\n",
    "df_variant_des.loc[2, 'severity'] = \"No significant increase in infection severity.\"\n",
    "df_variant_des.loc[3, 'severity'] = \"No reported increase in disease severity.\"\n",
    "df_variant_des.loc[4, 'severity'] = \"No evidence on impact on severity.\"\n"
   ]
  },
  {
   "cell_type": "code",
   "execution_count": 24,
   "id": "ef777bbb",
   "metadata": {},
   "outputs": [],
   "source": [
    "df_v = df_v.drop_duplicates(['usa_or_hhsregion', 'variant', 'Week', 'Week_start', 'Week_end']).reset_index().drop(columns = ['index'])\n",
    "df_v = df_v.merge(df_variant_des)\n",
    "index = df_v[(df_v['usa_or_hhsregion'] == '1')&(df_v['variant'] == 'BA.2')].index\n",
    "df_v.loc[index, 'BA.1 Week'] = np.arange(27)\n",
    "for region in df_v['usa_or_hhsregion'].unique():\n",
    "    for variant in df_v['variant'].unique():\n",
    "        index = df_v[(df_v['usa_or_hhsregion'] == region)&(df_v['variant'] == variant)].index\n",
    "        length = len(df_v[(df_v['usa_or_hhsregion'] == region)&(df_v['variant'] == variant)])\n",
    "        \n",
    "        df_v.loc[index, variant + ' Week'] = np.arange(length)\n",
    "        "
   ]
  },
  {
   "cell_type": "code",
   "execution_count": 25,
   "id": "791990b3",
   "metadata": {},
   "outputs": [],
   "source": [
    "df_v = df_v.drop(columns = ['BA.1 Week'])\n",
    "df_v['BA.2 Week'] = df_v['BA.2 Week'].replace(0, np.nan)\n",
    "df_v = df_v.dropna(subset = ['BA.2 Week', 'BA.4 Week', 'BA.5 Week', 'BQ.1 Week', 'XBB Week'], how='all')\n",
    "df_v = df_v.reset_index().drop(columns = ['index'])\n",
    "df_v['BA.4 Week'] = df_v['BA.4 Week'].replace(0, np.nan)\n",
    "df_v = df_v.dropna(subset = ['BA.2 Week', 'BA.4 Week', 'BA.5 Week', 'BQ.1 Week', 'XBB Week'], how='all')\n",
    "df_v = df_v.reset_index().drop(columns = ['index'])"
   ]
  },
  {
   "cell_type": "code",
   "execution_count": 40,
   "id": "f904bef3",
   "metadata": {},
   "outputs": [
    {
     "name": "stderr",
     "output_type": "stream",
     "text": [
      "/var/folders/fg/qtvw7sp54r91rm2skfzzb8ww0000gn/T/ipykernel_33075/2381070107.py:1: FutureWarning: The frame.append method is deprecated and will be removed from pandas in a future version. Use pandas.concat instead.\n",
      "  df_8_weeks = df_v[df_v['BA.2 Week'] <= 8].append(df_v[df_v['BA.5 Week'] <= 8]).append(df_v[df_v['BQ.1 Week'] <= 8])\n",
      "/var/folders/fg/qtvw7sp54r91rm2skfzzb8ww0000gn/T/ipykernel_33075/2381070107.py:1: FutureWarning: The frame.append method is deprecated and will be removed from pandas in a future version. Use pandas.concat instead.\n",
      "  df_8_weeks = df_v[df_v['BA.2 Week'] <= 8].append(df_v[df_v['BA.5 Week'] <= 8]).append(df_v[df_v['BQ.1 Week'] <= 8])\n"
     ]
    }
   ],
   "source": [
    "df_8_weeks = df_v[df_v['BA.2 Week'] <= 8].append(df_v[df_v['BA.5 Week'] <= 8]).append(df_v[df_v['BQ.1 Week'] <= 8])\n",
    "df_8_weeks['Week_since_detected'] = df_8_weeks['BA.2 Week'].fillna(0)\\\n",
    "+ df_8_weeks['BA.5 Week'].fillna(0) + df_8_weeks['BQ.1 Week'].fillna(0)\n",
    "df_8_weeks = df_8_weeks.drop(columns = ['BA.2 Week', 'BA.4 Week', 'BA.5 Week',\n",
    "                          'BQ.1 Week', 'XBB Week'])\n",
    "df_8_weeks['Week_since_reported'] = 'The new variant has been reported by CDC for ' + \\\n",
    "df_8_weeks['Week_since_detected'].astype(str).str[:1] + ' Weeks'\n",
    "df_8_weeks = df_8_weeks.drop(columns = ['Week_since_detected'])\n",
    "df_8_weeks['usa_or_hhsregion'] = df_8_weeks['usa_or_hhsregion'].astype(int)\n",
    "df_8_weeks = df_8_weeks.rename(columns = {'usa_or_hhsregion' : 'HHS_region'})"
   ]
  },
  {
   "cell_type": "code",
   "execution_count": 41,
   "id": "1bf68765",
   "metadata": {},
   "outputs": [],
   "source": [
    "hhs_region = hhs_region.rename(columns = {'state_or_territory' : 'state_name'})\n",
    "hhs_region = hhs_region[hhs_region['state_name'].isin(ref['state_name'])]\n",
    "hhs_region = hhs_region.reset_index().drop(columns = ['index'])\n",
    "hhs_region = hhs_region.drop(columns = ['region', 'regional_office']).rename(columns = {'region_number' : 'HHS_region'})\n",
    "df_8_weeks = df_8_weeks.merge(hhs_region)"
   ]
  },
  {
   "cell_type": "code",
   "execution_count": 42,
   "id": "287c29b1",
   "metadata": {},
   "outputs": [],
   "source": [
    "df_8_weeks = df_8_weeks.drop(columns = ['prev_2w', 'prev_1w', 'HHS_region'])"
   ]
  },
  {
   "cell_type": "code",
   "execution_count": 43,
   "id": "f289f5c4",
   "metadata": {},
   "outputs": [],
   "source": [
    "df_8_weeks = df_8_weeks.drop(columns = 'Unnamed: 0')"
   ]
  },
  {
   "cell_type": "code",
   "execution_count": 44,
   "id": "ae292fae",
   "metadata": {},
   "outputs": [],
   "source": [
    "df_8_weeks.to_pickle(cwd + '/processed_data/genomic_prompt.pkl')"
   ]
  },
  {
   "cell_type": "code",
   "execution_count": null,
   "id": "d6bdd8e2",
   "metadata": {},
   "outputs": [],
   "source": []
  }
 ],
 "metadata": {
  "kernelspec": {
   "display_name": "Python 3 (ipykernel)",
   "language": "python",
   "name": "python3"
  },
  "language_info": {
   "codemirror_mode": {
    "name": "ipython",
    "version": 3
   },
   "file_extension": ".py",
   "mimetype": "text/x-python",
   "name": "python",
   "nbconvert_exporter": "python",
   "pygments_lexer": "ipython3",
   "version": "3.9.17"
  }
 },
 "nbformat": 4,
 "nbformat_minor": 5
}
